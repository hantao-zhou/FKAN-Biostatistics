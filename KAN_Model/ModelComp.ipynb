{
 "cells": [
  {
   "cell_type": "code",
   "execution_count": 1,
   "metadata": {},
   "outputs": [
    {
     "ename": "ModuleNotFoundError",
     "evalue": "No module named 'matplotlib'",
     "output_type": "error",
     "traceback": [
      "\u001b[0;31m---------------------------------------------------------------------------\u001b[0m",
      "\u001b[0;31mModuleNotFoundError\u001b[0m                       Traceback (most recent call last)",
      "Cell \u001b[0;32mIn[1], line 1\u001b[0m\n\u001b[0;32m----> 1\u001b[0m \u001b[38;5;28;01mimport\u001b[39;00m\u001b[38;5;250m \u001b[39m\u001b[38;5;21;01mmatplotlib\u001b[39;00m\u001b[38;5;21;01m.\u001b[39;00m\u001b[38;5;21;01mpyplot\u001b[39;00m\u001b[38;5;250m \u001b[39m\u001b[38;5;28;01mas\u001b[39;00m\u001b[38;5;250m \u001b[39m\u001b[38;5;21;01mplt\u001b[39;00m\n\u001b[1;32m      2\u001b[0m \u001b[38;5;28;01mimport\u001b[39;00m\u001b[38;5;250m \u001b[39m\u001b[38;5;21;01mnumpy\u001b[39;00m\u001b[38;5;250m \u001b[39m\u001b[38;5;28;01mas\u001b[39;00m\u001b[38;5;250m \u001b[39m\u001b[38;5;21;01mnp\u001b[39;00m\n\u001b[1;32m      4\u001b[0m \u001b[38;5;66;03m# Model names\u001b[39;00m\n",
      "\u001b[0;31mModuleNotFoundError\u001b[0m: No module named 'matplotlib'"
     ]
    }
   ],
   "source": [
    "import matplotlib.pyplot as plt\n",
    "import numpy as np\n",
    "\n",
    "# Model names\n",
    "models = ['EFF_KAN', 'Fast_KAN', 'Real_KAN', 'KAL_Net', 'Fourier_KAN', 'Linear']\n",
    "\n",
    "# Metric values: F1, Precision, and Recall for each model\n",
    "f1_scores = [0.8571, 0.9333, 0.8750, 0.9333, 0.9411, 0.9411]  # Example F1 scores\n",
    "precision_scores = [1.000, 1.000, 0.8750, 1.0, 1.0, 1.0]  # Example Precision values\n",
    "recall_scores = [0.7500, 0.8750, 0.8750, 0.8750, 0.8888, 0.8888]  # Example Recall values\n",
    "\n",
    "# Set width of bars\n",
    "bar_width = 0.3\n",
    "\n",
    "# Set positions for each metric (grouped bar positions)\n",
    "index = np.arange(len(models))\n",
    "\n",
    "# Create the figure with a smaller size\n",
    "plt.figure(figsize=(10, 6))\n",
    "\n",
    "# Plot bars for F1, Precision, and Recall\n",
    "plt.bar(index - bar_width, f1_scores, bar_width, label='F1 Score', color='skyblue')\n",
    "plt.bar(index, precision_scores, bar_width, label='Precision', color='lightgreen')\n",
    "plt.bar(index + bar_width, recall_scores, bar_width, label='Recall', color='salmon')\n",
    "\n",
    "# Labeling\n",
    "plt.xlabel('Models', fontsize=12)\n",
    "plt.ylabel('Score', fontsize=12)\n",
    "plt.title('Comparison of Models by F1 Score, Precision, and Recall', fontsize=14)\n",
    "plt.xticks(index, models, fontsize=10)\n",
    "\n",
    "# Adjust y-axis limits to give more space and prevent overlap\n",
    "plt.ylim(0, 1.1)  # Increase y-limit to 1.1 for more space\n",
    "\n",
    "# Display the value of each bar above it\n",
    "for i in range(len(models)):\n",
    "    plt.text(i - bar_width, f1_scores[i] + 0.02, f\"{f1_scores[i]:.4f}\", ha='center', fontsize=10)\n",
    "    plt.text(i, precision_scores[i] + 0.02, f\"{precision_scores[i]:.4f}\", ha='center', fontsize=10)\n",
    "    plt.text(i + bar_width, recall_scores[i] + 0.02, f\"{recall_scores[i]:.4f}\", ha='center', fontsize=10)\n",
    "\n",
    "# Add gridlines for better visibility\n",
    "plt.grid(axis='y', linestyle='--')\n",
    "\n",
    "# Add a legend\n",
    "plt.legend()\n",
    "\n",
    "# Adjust layout to avoid overlapping\n",
    "plt.tight_layout()\n",
    "\n",
    "# Show the plot\n",
    "plt.show()"
   ]
  }
 ],
 "metadata": {
  "kernelspec": {
   "display_name": "FLEnv",
   "language": "python",
   "name": "python3"
  },
  "language_info": {
   "codemirror_mode": {
    "name": "ipython",
    "version": 3
   },
   "file_extension": ".py",
   "mimetype": "text/x-python",
   "name": "python",
   "nbconvert_exporter": "python",
   "pygments_lexer": "ipython3",
   "version": "3.10.16"
  }
 },
 "nbformat": 4,
 "nbformat_minor": 2
}
