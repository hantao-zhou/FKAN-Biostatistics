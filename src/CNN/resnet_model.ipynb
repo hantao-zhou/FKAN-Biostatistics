{
  "cells": [
    {
      "cell_type": "code",
      "execution_count": 1,
      "metadata": {
        "colab": {
          "base_uri": "https://localhost:8080/"
        },
        "id": "BalgnfLZnHGz",
        "outputId": "0104be54-4bb4-4da3-ab3b-ff7482c2aa3a"
      },
      "outputs": [
        {
          "name": "stdout",
          "output_type": "stream",
          "text": [
            "Mounted at /content/drive\n"
          ]
        }
      ],
      "source": [
        "from google.colab import drive\n",
        "drive.mount('/content/drive')"
      ]
    },
    {
      "cell_type": "code",
      "execution_count": 2,
      "metadata": {
        "colab": {
          "base_uri": "https://localhost:8080/"
        },
        "id": "1t8YaEMgr3Ta",
        "outputId": "fb4180a8-75d1-4d6f-a5a4-fa811f0b47a9"
      },
      "outputs": [
        {
          "name": "stdout",
          "output_type": "stream",
          "text": [
            "Collecting torchmetrics\n",
            "  Downloading torchmetrics-1.6.1-py3-none-any.whl.metadata (21 kB)\n",
            "Requirement already satisfied: numpy>1.20.0 in /usr/local/lib/python3.11/dist-packages (from torchmetrics) (1.26.4)\n",
            "Requirement already satisfied: packaging>17.1 in /usr/local/lib/python3.11/dist-packages (from torchmetrics) (24.2)\n",
            "Requirement already satisfied: torch>=2.0.0 in /usr/local/lib/python3.11/dist-packages (from torchmetrics) (2.5.1+cu121)\n",
            "Collecting lightning-utilities>=0.8.0 (from torchmetrics)\n",
            "  Downloading lightning_utilities-0.11.9-py3-none-any.whl.metadata (5.2 kB)\n",
            "Requirement already satisfied: setuptools in /usr/local/lib/python3.11/dist-packages (from lightning-utilities>=0.8.0->torchmetrics) (75.1.0)\n",
            "Requirement already satisfied: typing-extensions in /usr/local/lib/python3.11/dist-packages (from lightning-utilities>=0.8.0->torchmetrics) (4.12.2)\n",
            "Requirement already satisfied: filelock in /usr/local/lib/python3.11/dist-packages (from torch>=2.0.0->torchmetrics) (3.16.1)\n",
            "Requirement already satisfied: networkx in /usr/local/lib/python3.11/dist-packages (from torch>=2.0.0->torchmetrics) (3.4.2)\n",
            "Requirement already satisfied: jinja2 in /usr/local/lib/python3.11/dist-packages (from torch>=2.0.0->torchmetrics) (3.1.5)\n",
            "Requirement already satisfied: fsspec in /usr/local/lib/python3.11/dist-packages (from torch>=2.0.0->torchmetrics) (2024.10.0)\n",
            "Requirement already satisfied: nvidia-cuda-nvrtc-cu12==12.1.105 in /usr/local/lib/python3.11/dist-packages (from torch>=2.0.0->torchmetrics) (12.1.105)\n",
            "Requirement already satisfied: nvidia-cuda-runtime-cu12==12.1.105 in /usr/local/lib/python3.11/dist-packages (from torch>=2.0.0->torchmetrics) (12.1.105)\n",
            "Requirement already satisfied: nvidia-cuda-cupti-cu12==12.1.105 in /usr/local/lib/python3.11/dist-packages (from torch>=2.0.0->torchmetrics) (12.1.105)\n",
            "Requirement already satisfied: nvidia-cudnn-cu12==9.1.0.70 in /usr/local/lib/python3.11/dist-packages (from torch>=2.0.0->torchmetrics) (9.1.0.70)\n",
            "Requirement already satisfied: nvidia-cublas-cu12==12.1.3.1 in /usr/local/lib/python3.11/dist-packages (from torch>=2.0.0->torchmetrics) (12.1.3.1)\n",
            "Requirement already satisfied: nvidia-cufft-cu12==11.0.2.54 in /usr/local/lib/python3.11/dist-packages (from torch>=2.0.0->torchmetrics) (11.0.2.54)\n",
            "Requirement already satisfied: nvidia-curand-cu12==10.3.2.106 in /usr/local/lib/python3.11/dist-packages (from torch>=2.0.0->torchmetrics) (10.3.2.106)\n",
            "Requirement already satisfied: nvidia-cusolver-cu12==11.4.5.107 in /usr/local/lib/python3.11/dist-packages (from torch>=2.0.0->torchmetrics) (11.4.5.107)\n",
            "Requirement already satisfied: nvidia-cusparse-cu12==12.1.0.106 in /usr/local/lib/python3.11/dist-packages (from torch>=2.0.0->torchmetrics) (12.1.0.106)\n",
            "Requirement already satisfied: nvidia-nccl-cu12==2.21.5 in /usr/local/lib/python3.11/dist-packages (from torch>=2.0.0->torchmetrics) (2.21.5)\n",
            "Requirement already satisfied: nvidia-nvtx-cu12==12.1.105 in /usr/local/lib/python3.11/dist-packages (from torch>=2.0.0->torchmetrics) (12.1.105)\n",
            "Requirement already satisfied: triton==3.1.0 in /usr/local/lib/python3.11/dist-packages (from torch>=2.0.0->torchmetrics) (3.1.0)\n",
            "Requirement already satisfied: sympy==1.13.1 in /usr/local/lib/python3.11/dist-packages (from torch>=2.0.0->torchmetrics) (1.13.1)\n",
            "Requirement already satisfied: nvidia-nvjitlink-cu12 in /usr/local/lib/python3.11/dist-packages (from nvidia-cusolver-cu12==11.4.5.107->torch>=2.0.0->torchmetrics) (12.6.85)\n",
            "Requirement already satisfied: mpmath<1.4,>=1.1.0 in /usr/local/lib/python3.11/dist-packages (from sympy==1.13.1->torch>=2.0.0->torchmetrics) (1.3.0)\n",
            "Requirement already satisfied: MarkupSafe>=2.0 in /usr/local/lib/python3.11/dist-packages (from jinja2->torch>=2.0.0->torchmetrics) (3.0.2)\n",
            "Downloading torchmetrics-1.6.1-py3-none-any.whl (927 kB)\n",
            "\u001b[2K   \u001b[90m━━━━━━━━━━━━━━━━━━━━━━━━━━━━━━━━━━━━━━━━\u001b[0m \u001b[32m927.3/927.3 kB\u001b[0m \u001b[31m19.8 MB/s\u001b[0m eta \u001b[36m0:00:00\u001b[0m\n",
            "\u001b[?25hDownloading lightning_utilities-0.11.9-py3-none-any.whl (28 kB)\n",
            "Installing collected packages: lightning-utilities, torchmetrics\n",
            "Successfully installed lightning-utilities-0.11.9 torchmetrics-1.6.1\n"
          ]
        }
      ],
      "source": [
        "!pip install torchmetrics"
      ]
    },
    {
      "cell_type": "code",
      "execution_count": 3,
      "metadata": {
        "id": "xT4iG--NOpTw"
      },
      "outputs": [],
      "source": [
        "import os\n",
        "import cv2\n",
        "import numpy as np\n",
        "import torch\n",
        "import torch.nn as nn\n",
        "import torchvision\n",
        "from tqdm import tqdm"
      ]
    },
    {
      "cell_type": "code",
      "execution_count": 4,
      "metadata": {
        "colab": {
          "base_uri": "https://localhost:8080/"
        },
        "id": "11680mFSNiEV",
        "outputId": "3cc714cb-68d1-4680-d9fd-28d27429a990"
      },
      "outputs": [
        {
          "name": "stderr",
          "output_type": "stream",
          "text": [
            "100%|██████████| 3775/3775 [01:30<00:00, 41.58it/s] \n",
            "100%|██████████| 3775/3775 [01:29<00:00, 42.41it/s] \n",
            "100%|██████████| 108/108 [00:02<00:00, 46.95it/s] \n",
            "100%|██████████| 108/108 [00:02<00:00, 38.41it/s] \n",
            "100%|██████████| 234/234 [00:03<00:00, 58.64it/s] \n",
            "100%|██████████| 390/390 [00:07<00:00, 54.08it/s] \n"
          ]
        }
      ],
      "source": [
        "labels = ['NORMAL', 'PNEUMONIA']\n",
        "img_size = 224\n",
        "\n",
        "def get_training_data(data_dir):\n",
        "    data = []\n",
        "\n",
        "    for label in labels:\n",
        "        path = os.path.join(data_dir, label)\n",
        "        class_num = labels.index(label)\n",
        "\n",
        "        for img in tqdm(os.listdir(path)):\n",
        "            try:\n",
        "                # Load and resize the image\n",
        "                img_arr = cv2.imread(os.path.join(path, img), cv2.IMREAD_GRAYSCALE)\n",
        "                resized_arr = cv2.resize(img_arr, (img_size, img_size))  # Resize the image\n",
        "\n",
        "                # Add the image and label as a pair\n",
        "                data.append([resized_arr, class_num])\n",
        "            except Exception as e:\n",
        "                print(f\"Error loading image {img}: {e}\")\n",
        "\n",
        "    # Convert the list to a NumPy array\n",
        "    data = np.array(data, dtype=object)  # Use dtype=object to allow image-label pairing\n",
        "    return data\n",
        "\n",
        "# get relativ Path of the data\n",
        "current_dir = os.getcwd()  # current directory\n",
        "norm_data_dir = os.path.join(current_dir, \"../..\", \"normData\")\n",
        "\n",
        "#load the data\n",
        "train_data = get_training_data('/content/drive/MyDrive/normData/train')\n",
        "val_data = get_training_data('/content/drive/MyDrive/normData/val')\n",
        "test_data = get_training_data('/content/drive/MyDrive/normData/test')"
      ]
    },
    {
      "cell_type": "code",
      "execution_count": 5,
      "metadata": {
        "colab": {
          "base_uri": "https://localhost:8080/"
        },
        "id": "Qrf_UaBJOHyK",
        "outputId": "2a6bab00-390f-43f5-850f-ead852e3bf5a"
      },
      "outputs": [
        {
          "name": "stderr",
          "output_type": "stream",
          "text": [
            "100%|██████████| 7550/7550 [00:03<00:00, 2505.15it/s]\n",
            "100%|██████████| 216/216 [00:00<00:00, 12452.16it/s]\n",
            "100%|██████████| 624/624 [00:00<00:00, 14003.23it/s]"
          ]
        },
        {
          "name": "stdout",
          "output_type": "stream",
          "text": [
            "\n",
            "\n",
            "Shape of normalized and shuffled test images: (624, 224, 224)\n",
            "Shape of normalized and shuffled train images: (7550, 224, 224)\n",
            "Shape of normalized and shuffled validation images: (216, 224, 224)\n"
          ]
        },
        {
          "name": "stderr",
          "output_type": "stream",
          "text": [
            "\n"
          ]
        }
      ],
      "source": [
        "# Function to normalize the images\n",
        "def normalize_images(data):\n",
        "    images = []\n",
        "    labels = []\n",
        "\n",
        "    for img, label in tqdm(data):\n",
        "        # Normalization: each pixel is divided by 255\n",
        "        normalized_img = img / 255.0\n",
        "        images.append(normalized_img)\n",
        "        labels.append(label)\n",
        "\n",
        "    # Convert the images and labels into separate arrays\n",
        "    images = np.array(images)\n",
        "    labels = np.array(labels)\n",
        "\n",
        "    return images, labels\n",
        "\n",
        "# Normalize the images in the training dataset\n",
        "train_images, train_labels = normalize_images(train_data)\n",
        "val_images, val_labels = normalize_images(val_data)\n",
        "test_images, test_labels = normalize_images(test_data)\n",
        "\n",
        "\n",
        "# Check the shape and an example of the normalized and shuffled data\n",
        "print('\\n')\n",
        "print(f\"Shape of normalized and shuffled test images: {test_images.shape}\")\n",
        "print(f\"Shape of normalized and shuffled train images: {train_images.shape}\")\n",
        "print(f\"Shape of normalized and shuffled validation images: {val_images.shape}\")"
      ]
    },
    {
      "cell_type": "code",
      "execution_count": 7,
      "metadata": {
        "colab": {
          "base_uri": "https://localhost:8080/"
        },
        "id": "pDehAi3WS1xR",
        "outputId": "49375315-d22c-4ce7-92bb-55f31c07f8c7"
      },
      "outputs": [
        {
          "name": "stdout",
          "output_type": "stream",
          "text": [
            "torch.Size([7550, 1, 224, 224]) torch.Size([216, 1, 224, 224]) torch.Size([624, 1, 224, 224])\n",
            "Done!\n"
          ]
        }
      ],
      "source": [
        "from torch.utils.data import TensorDataset, DataLoader\n",
        "\n",
        "# Convert the images and labels to PyTorch tensors\n",
        "\n",
        "# Apply the transformation to training and validation images\n",
        "train_images_tensor = torch.stack([torch.tensor(img, dtype=torch.float) for img in train_images]).unsqueeze(1)\n",
        "val_images_tensor = torch.stack([torch.tensor(img, dtype=torch.float) for img in val_images]).unsqueeze(1)\n",
        "test_images_tensor = torch.stack([torch.tensor(img, dtype=torch.float) for img in test_images]).unsqueeze(1)\n",
        "\n",
        "# Now permute them\n",
        "train_images_tensor = train_images_tensor.permute(0, 1, 2, 3)  # (N, 1, 244, 244)\n",
        "val_images_tensor = val_images_tensor.permute(0, 1, 2, 3)      # (N, 1, 244, 244)\n",
        "test_images_tensor = test_images_tensor.permute(0, 1, 2, 3)    # (N, 1, 244, 244)\n",
        "print(train_images_tensor.shape, val_images_tensor.shape, test_images_tensor.shape)\n",
        "\n",
        "# The tensors are now in the shape (N, 1, 244, 244), where N is the number of images\n",
        "\n",
        "train_labels_tensor = torch.tensor(train_labels, dtype=torch.long)\n",
        "val_labels_tensor = torch.tensor(val_labels, dtype=torch.long)\n",
        "test_labels_tensor = torch.tensor(test_labels, dtype=torch.long)\n",
        "\n",
        "# Create the dataset and DataLoader\n",
        "train_dataset = TensorDataset(train_images_tensor, train_labels_tensor)\n",
        "val_dataset = TensorDataset(val_images_tensor, val_labels_tensor)\n",
        "test_dataset = TensorDataset(test_images_tensor, test_labels_tensor)\n",
        "\n",
        "# Define the batch size\n",
        "train_loader = DataLoader(train_dataset, batch_size=32, shuffle=True)\n",
        "val_loader = DataLoader(val_dataset, batch_size=8, shuffle=True)\n",
        "test_loader = DataLoader(test_dataset, batch_size=8, shuffle=True)\n",
        "print('Done!')\n",
        "\n"
      ]
    },
    {
      "cell_type": "code",
      "execution_count": 16,
      "metadata": {
        "colab": {
          "base_uri": "https://localhost:8080/"
        },
        "id": "EhWclu08OZ6l",
        "outputId": "7f1d1246-5ec7-4bb2-b675-1a0dc22e51c2"
      },
      "outputs": [
        {
          "name": "stdout",
          "output_type": "stream",
          "text": [
            "cuda:0\n"
          ]
        }
      ],
      "source": [
        "class ResNet(nn.Module):\n",
        "    def __init__(self, num_classes=2, softmax=True):\n",
        "      super(ResNet, self).__init__()\n",
        "      self.resnet = torchvision.models.resnet18(pretrained=True)\n",
        "      num_ftrs = self.resnet.fc.out_features\n",
        "      self.fc = nn.Linear(num_ftrs, num_classes)\n",
        "      self.bn = nn.BatchNorm1d(num_ftrs)\n",
        "      self.relu = nn.ReLU()\n",
        "      self.softmax = torch.nn.Softmax(dim=1) if softmax else None\n",
        "      self.change_conv1()\n",
        "\n",
        "    def forward(self, x):\n",
        "      x = self.resnet(x)\n",
        "      x = self.bn(x)\n",
        "      x = self.relu(x)\n",
        "      x = self.fc(x)\n",
        "      if self.softmax:\n",
        "        x = self.softmax(x)\n",
        "      return x\n",
        "\n",
        "    def change_conv1(self):\n",
        "      original_conv1 = self.resnet.conv1\n",
        "\n",
        "      #Create a new convolutional layer with 1 input channel instead of 3\n",
        "      new_conv1 = nn.Conv2d(\n",
        "        in_channels=1,  # Grayscale has 1 channel\n",
        "        out_channels=original_conv1.out_channels,\n",
        "        kernel_size=original_conv1.kernel_size,\n",
        "        stride=original_conv1.stride,\n",
        "        padding=original_conv1.padding,\n",
        "        bias=original_conv1.bias is not None\n",
        ")\n",
        "\n",
        "      # Initialize the new conv layer's weights by averaging the RGB weights\n",
        "      with torch.no_grad():\n",
        "        new_conv1.weight = nn.Parameter(original_conv1.weight.mean(dim=1, keepdim=True))\n",
        "\n",
        "        #Replace the original conv1 with the new one\n",
        "        self.resnet.conv1 = new_conv1\n",
        "\n",
        "\n",
        "model = ResNet(num_classes=2, softmax=False)\n",
        "device = torch.device('cuda:0' if torch.cuda.is_available() else 'cpu')\n",
        "model.to(device)\n",
        "print(device)\n",
        "\n",
        "\n"
      ]
    },
    {
      "cell_type": "markdown",
      "metadata": {
        "id": "_wCqaba_Xu59"
      },
      "source": [
        "### **Training**"
      ]
    },
    {
      "cell_type": "code",
      "execution_count": 17,
      "metadata": {
        "colab": {
          "base_uri": "https://localhost:8080/",
          "height": 1000
        },
        "id": "oGlRJ8QtTziF",
        "outputId": "fd8f5adf-0e4b-46f0-8e6a-0b62f94fdd68"
      },
      "outputs": [
        {
          "name": "stdout",
          "output_type": "stream",
          "text": [
            "Start training of: ResNet18\n"
          ]
        },
        {
          "name": "stderr",
          "output_type": "stream",
          "text": [
            "Epoch 1/100 - Loss: 0.0765: 100%|██████████| 236/236 [00:21<00:00, 10.73it/s]\n",
            "Epoch 1/100 - Validation Batch: 26: 100%|██████████| 27/27 [00:00<00:00, 86.00it/s]\n"
          ]
        },
        {
          "name": "stdout",
          "output_type": "stream",
          "text": [
            "Epoch 1/100 - Validation F1 Score: 0.9859 - Validation Recall Score: 1.0000 - Validation Precision Score: 0.9722\n",
            "Exceeded\n"
          ]
        },
        {
          "name": "stderr",
          "output_type": "stream",
          "text": [
            "Epoch 2/100 - Loss: 0.0187: 100%|██████████| 236/236 [00:22<00:00, 10.66it/s]\n",
            "Epoch 2/100 - Validation Batch: 26: 100%|██████████| 27/27 [00:00<00:00, 88.83it/s]\n"
          ]
        },
        {
          "name": "stdout",
          "output_type": "stream",
          "text": [
            "Epoch 2/100 - Validation F1 Score: 0.9813 - Validation Recall Score: 0.9906 - Validation Precision Score: 0.9722\n"
          ]
        },
        {
          "name": "stderr",
          "output_type": "stream",
          "text": [
            "Epoch 3/100 - Loss: 0.0059: 100%|██████████| 236/236 [00:22<00:00, 10.46it/s]\n",
            "Epoch 3/100 - Validation Batch: 26: 100%|██████████| 27/27 [00:00<00:00, 65.76it/s]\n"
          ]
        },
        {
          "name": "stdout",
          "output_type": "stream",
          "text": [
            "Epoch 3/100 - Validation F1 Score: 0.9714 - Validation Recall Score: 1.0000 - Validation Precision Score: 0.9444\n"
          ]
        },
        {
          "name": "stderr",
          "output_type": "stream",
          "text": [
            "Epoch 4/100 - Loss: 0.0065: 100%|██████████| 236/236 [00:22<00:00, 10.46it/s]\n",
            "Epoch 4/100 - Validation Batch: 26: 100%|██████████| 27/27 [00:00<00:00, 89.14it/s]\n"
          ]
        },
        {
          "name": "stdout",
          "output_type": "stream",
          "text": [
            "Epoch 4/100 - Validation F1 Score: 0.9730 - Validation Recall Score: 0.9474 - Validation Precision Score: 1.0000\n"
          ]
        },
        {
          "name": "stderr",
          "output_type": "stream",
          "text": [
            "Epoch 5/100 - Loss: 0.0035: 100%|██████████| 236/236 [00:23<00:00, 10.25it/s]\n",
            "Epoch 5/100 - Validation Batch: 26: 100%|██████████| 27/27 [00:00<00:00, 85.97it/s]\n"
          ]
        },
        {
          "name": "stdout",
          "output_type": "stream",
          "text": [
            "Epoch 5/100 - Validation F1 Score: 0.9862 - Validation Recall Score: 0.9817 - Validation Precision Score: 0.9907\n",
            "Exceeded\n"
          ]
        },
        {
          "name": "stderr",
          "output_type": "stream",
          "text": [
            "Epoch 6/100 - Loss: 0.0008: 100%|██████████| 236/236 [00:22<00:00, 10.47it/s]\n",
            "Epoch 6/100 - Validation Batch: 26: 100%|██████████| 27/27 [00:00<00:00, 78.90it/s]\n"
          ]
        },
        {
          "name": "stdout",
          "output_type": "stream",
          "text": [
            "Epoch 6/100 - Validation F1 Score: 0.9907 - Validation Recall Score: 0.9907 - Validation Precision Score: 0.9907\n",
            "Exceeded\n"
          ]
        },
        {
          "name": "stderr",
          "output_type": "stream",
          "text": [
            "Epoch 7/100 - Loss: 0.0005: 100%|██████████| 236/236 [00:22<00:00, 10.48it/s]\n",
            "Epoch 7/100 - Validation Batch: 26: 100%|██████████| 27/27 [00:00<00:00, 87.98it/s]\n"
          ]
        },
        {
          "name": "stdout",
          "output_type": "stream",
          "text": [
            "Epoch 7/100 - Validation F1 Score: 0.9907 - Validation Recall Score: 0.9907 - Validation Precision Score: 0.9907\n"
          ]
        },
        {
          "name": "stderr",
          "output_type": "stream",
          "text": [
            "Epoch 8/100 - Loss: 0.0008: 100%|██████████| 236/236 [00:22<00:00, 10.35it/s]\n",
            "Epoch 8/100 - Validation Batch: 26: 100%|██████████| 27/27 [00:00<00:00, 87.58it/s]\n"
          ]
        },
        {
          "name": "stdout",
          "output_type": "stream",
          "text": [
            "Epoch 8/100 - Validation F1 Score: 0.9907 - Validation Recall Score: 0.9907 - Validation Precision Score: 0.9907\n"
          ]
        },
        {
          "name": "stderr",
          "output_type": "stream",
          "text": [
            "Epoch 9/100 - Loss: 0.0005: 100%|██████████| 236/236 [00:22<00:00, 10.44it/s]\n",
            "Epoch 9/100 - Validation Batch: 26: 100%|██████████| 27/27 [00:00<00:00, 83.66it/s]\n"
          ]
        },
        {
          "name": "stdout",
          "output_type": "stream",
          "text": [
            "Epoch 9/100 - Validation F1 Score: 0.9907 - Validation Recall Score: 0.9907 - Validation Precision Score: 0.9907\n"
          ]
        },
        {
          "name": "stderr",
          "output_type": "stream",
          "text": [
            "Epoch 10/100 - Loss: 0.0004: 100%|██████████| 236/236 [00:22<00:00, 10.42it/s]\n",
            "Epoch 10/100 - Validation Batch: 26: 100%|██████████| 27/27 [00:00<00:00, 87.60it/s]\n"
          ]
        },
        {
          "name": "stdout",
          "output_type": "stream",
          "text": [
            "Epoch 10/100 - Validation F1 Score: 0.9907 - Validation Recall Score: 0.9907 - Validation Precision Score: 0.9907\n"
          ]
        },
        {
          "name": "stderr",
          "output_type": "stream",
          "text": [
            "Epoch 11/100 - Loss: 0.0003: 100%|██████████| 236/236 [00:22<00:00, 10.47it/s]\n",
            "Epoch 11/100 - Validation Batch: 26: 100%|██████████| 27/27 [00:00<00:00, 89.51it/s]\n"
          ]
        },
        {
          "name": "stdout",
          "output_type": "stream",
          "text": [
            "Epoch 11/100 - Validation F1 Score: 0.9907 - Validation Recall Score: 0.9907 - Validation Precision Score: 0.9907\n"
          ]
        },
        {
          "name": "stderr",
          "output_type": "stream",
          "text": [
            "Epoch 12/100 - Loss: 0.0005: 100%|██████████| 236/236 [00:22<00:00, 10.48it/s]\n",
            "Epoch 12/100 - Validation Batch: 26: 100%|██████████| 27/27 [00:00<00:00, 86.06it/s]\n"
          ]
        },
        {
          "name": "stdout",
          "output_type": "stream",
          "text": [
            "Epoch 12/100 - Validation F1 Score: 0.9907 - Validation Recall Score: 0.9907 - Validation Precision Score: 0.9907\n"
          ]
        },
        {
          "name": "stderr",
          "output_type": "stream",
          "text": [
            "Epoch 13/100 - Loss: 0.0004: 100%|██████████| 236/236 [00:22<00:00, 10.47it/s]\n",
            "Epoch 13/100 - Validation Batch: 26: 100%|██████████| 27/27 [00:00<00:00, 86.30it/s]\n"
          ]
        },
        {
          "name": "stdout",
          "output_type": "stream",
          "text": [
            "Epoch 13/100 - Validation F1 Score: 0.9907 - Validation Recall Score: 0.9907 - Validation Precision Score: 0.9907\n"
          ]
        },
        {
          "name": "stderr",
          "output_type": "stream",
          "text": [
            "Epoch 14/100 - Loss: 0.0003: 100%|██████████| 236/236 [00:22<00:00, 10.46it/s]\n",
            "Epoch 14/100 - Validation Batch: 26: 100%|██████████| 27/27 [00:00<00:00, 83.79it/s]\n"
          ]
        },
        {
          "name": "stdout",
          "output_type": "stream",
          "text": [
            "Epoch 14/100 - Validation F1 Score: 0.9907 - Validation Recall Score: 0.9907 - Validation Precision Score: 0.9907\n"
          ]
        },
        {
          "name": "stderr",
          "output_type": "stream",
          "text": [
            "Epoch 15/100 - Loss: 0.0002: 100%|██████████| 236/236 [00:22<00:00, 10.47it/s]\n",
            "Epoch 15/100 - Validation Batch: 26: 100%|██████████| 27/27 [00:00<00:00, 86.69it/s]\n"
          ]
        },
        {
          "name": "stdout",
          "output_type": "stream",
          "text": [
            "Epoch 15/100 - Validation F1 Score: 0.9907 - Validation Recall Score: 0.9907 - Validation Precision Score: 0.9907\n"
          ]
        },
        {
          "name": "stderr",
          "output_type": "stream",
          "text": [
            "Epoch 16/100 - Loss: 0.0002: 100%|██████████| 236/236 [00:22<00:00, 10.36it/s]\n",
            "Epoch 16/100 - Validation Batch: 26: 100%|██████████| 27/27 [00:00<00:00, 84.77it/s]\n"
          ]
        },
        {
          "name": "stdout",
          "output_type": "stream",
          "text": [
            "Epoch 16/100 - Validation F1 Score: 0.9907 - Validation Recall Score: 0.9907 - Validation Precision Score: 0.9907\n"
          ]
        },
        {
          "name": "stderr",
          "output_type": "stream",
          "text": [
            "Epoch 17/100 - Loss: 0.0003: 100%|██████████| 236/236 [00:22<00:00, 10.47it/s]\n",
            "Epoch 17/100 - Validation Batch: 26: 100%|██████████| 27/27 [00:00<00:00, 88.34it/s]\n"
          ]
        },
        {
          "name": "stdout",
          "output_type": "stream",
          "text": [
            "Epoch 17/100 - Validation F1 Score: 0.9907 - Validation Recall Score: 0.9907 - Validation Precision Score: 0.9907\n"
          ]
        },
        {
          "name": "stderr",
          "output_type": "stream",
          "text": [
            "Epoch 18/100 - Loss: 0.0003: 100%|██████████| 236/236 [00:22<00:00, 10.44it/s]\n",
            "Epoch 18/100 - Validation Batch: 26: 100%|██████████| 27/27 [00:00<00:00, 88.92it/s]\n"
          ]
        },
        {
          "name": "stdout",
          "output_type": "stream",
          "text": [
            "Epoch 18/100 - Validation F1 Score: 0.9907 - Validation Recall Score: 0.9907 - Validation Precision Score: 0.9907\n"
          ]
        },
        {
          "name": "stderr",
          "output_type": "stream",
          "text": [
            "Epoch 19/100 - Loss: 0.0004: 100%|██████████| 236/236 [00:22<00:00, 10.46it/s]\n",
            "Epoch 19/100 - Validation Batch: 26: 100%|██████████| 27/27 [00:00<00:00, 82.23it/s]\n"
          ]
        },
        {
          "name": "stdout",
          "output_type": "stream",
          "text": [
            "Epoch 19/100 - Validation F1 Score: 0.9907 - Validation Recall Score: 0.9907 - Validation Precision Score: 0.9907\n"
          ]
        },
        {
          "name": "stderr",
          "output_type": "stream",
          "text": [
            "Epoch 20/100 - Loss: 0.0002: 100%|██████████| 236/236 [00:22<00:00, 10.47it/s]\n",
            "Epoch 20/100 - Validation Batch: 26: 100%|██████████| 27/27 [00:00<00:00, 87.52it/s]\n"
          ]
        },
        {
          "name": "stdout",
          "output_type": "stream",
          "text": [
            "Epoch 20/100 - Validation F1 Score: 0.9907 - Validation Recall Score: 0.9907 - Validation Precision Score: 0.9907\n"
          ]
        },
        {
          "name": "stderr",
          "output_type": "stream",
          "text": [
            "Epoch 21/100 - Loss: 0.0003: 100%|██████████| 236/236 [00:22<00:00, 10.42it/s]\n",
            "Epoch 21/100 - Validation Batch: 26: 100%|██████████| 27/27 [00:00<00:00, 88.13it/s]\n"
          ]
        },
        {
          "name": "stdout",
          "output_type": "stream",
          "text": [
            "Epoch 21/100 - Validation F1 Score: 0.9861 - Validation Recall Score: 0.9907 - Validation Precision Score: 0.9815\n"
          ]
        },
        {
          "name": "stderr",
          "output_type": "stream",
          "text": [
            "Epoch 22/100 - Loss: 0.0002: 100%|██████████| 236/236 [00:22<00:00, 10.46it/s]\n",
            "Epoch 22/100 - Validation Batch: 26: 100%|██████████| 27/27 [00:00<00:00, 83.61it/s]\n"
          ]
        },
        {
          "name": "stdout",
          "output_type": "stream",
          "text": [
            "Epoch 22/100 - Validation F1 Score: 0.9907 - Validation Recall Score: 0.9907 - Validation Precision Score: 0.9907\n"
          ]
        },
        {
          "name": "stderr",
          "output_type": "stream",
          "text": [
            "Epoch 23/100 - Loss: 0.0003: 100%|██████████| 236/236 [00:22<00:00, 10.43it/s]\n",
            "Epoch 23/100 - Validation Batch: 26: 100%|██████████| 27/27 [00:00<00:00, 87.55it/s]\n"
          ]
        },
        {
          "name": "stdout",
          "output_type": "stream",
          "text": [
            "Epoch 23/100 - Validation F1 Score: 0.9907 - Validation Recall Score: 0.9907 - Validation Precision Score: 0.9907\n"
          ]
        },
        {
          "name": "stderr",
          "output_type": "stream",
          "text": [
            "Epoch 24/100 - Loss: 0.0002: 100%|██████████| 236/236 [00:22<00:00, 10.46it/s]\n",
            "Epoch 24/100 - Validation Batch: 26: 100%|██████████| 27/27 [00:00<00:00, 87.48it/s]\n"
          ]
        },
        {
          "name": "stdout",
          "output_type": "stream",
          "text": [
            "Epoch 24/100 - Validation F1 Score: 0.9907 - Validation Recall Score: 0.9907 - Validation Precision Score: 0.9907\n"
          ]
        },
        {
          "name": "stderr",
          "output_type": "stream",
          "text": [
            "Epoch 25/100 - Loss: 0.0002: 100%|██████████| 236/236 [00:22<00:00, 10.38it/s]\n",
            "Epoch 25/100 - Validation Batch: 26: 100%|██████████| 27/27 [00:00<00:00, 87.64it/s]\n"
          ]
        },
        {
          "name": "stdout",
          "output_type": "stream",
          "text": [
            "Epoch 25/100 - Validation F1 Score: 0.9861 - Validation Recall Score: 0.9907 - Validation Precision Score: 0.9815\n"
          ]
        },
        {
          "name": "stderr",
          "output_type": "stream",
          "text": [
            "Epoch 26/100 - Loss: 0.0002: 100%|██████████| 236/236 [00:22<00:00, 10.45it/s]\n",
            "Epoch 26/100 - Validation Batch: 26: 100%|██████████| 27/27 [00:00<00:00, 89.19it/s]\n"
          ]
        },
        {
          "name": "stdout",
          "output_type": "stream",
          "text": [
            "Epoch 26/100 - Validation F1 Score: 0.9907 - Validation Recall Score: 0.9907 - Validation Precision Score: 0.9907\n"
          ]
        },
        {
          "name": "stderr",
          "output_type": "stream",
          "text": [
            "Epoch 27/100 - Loss: 0.0002: 100%|██████████| 236/236 [00:22<00:00, 10.44it/s]\n",
            "Epoch 27/100 - Validation Batch: 26: 100%|██████████| 27/27 [00:00<00:00, 82.67it/s]\n"
          ]
        },
        {
          "name": "stdout",
          "output_type": "stream",
          "text": [
            "Epoch 27/100 - Validation F1 Score: 0.9907 - Validation Recall Score: 0.9907 - Validation Precision Score: 0.9907\n"
          ]
        },
        {
          "name": "stderr",
          "output_type": "stream",
          "text": [
            "Epoch 28/100 - Loss: 0.0003: 100%|██████████| 236/236 [00:22<00:00, 10.47it/s]\n",
            "Epoch 28/100 - Validation Batch: 26: 100%|██████████| 27/27 [00:00<00:00, 88.37it/s]\n"
          ]
        },
        {
          "name": "stdout",
          "output_type": "stream",
          "text": [
            "Epoch 28/100 - Validation F1 Score: 0.9907 - Validation Recall Score: 0.9907 - Validation Precision Score: 0.9907\n"
          ]
        },
        {
          "name": "stderr",
          "output_type": "stream",
          "text": [
            "Epoch 29/100 - Loss: 0.0002: 100%|██████████| 236/236 [00:22<00:00, 10.44it/s]\n",
            "Epoch 29/100 - Validation Batch: 26: 100%|██████████| 27/27 [00:00<00:00, 88.78it/s]\n"
          ]
        },
        {
          "name": "stdout",
          "output_type": "stream",
          "text": [
            "Epoch 29/100 - Validation F1 Score: 0.9907 - Validation Recall Score: 0.9907 - Validation Precision Score: 0.9907\n"
          ]
        },
        {
          "name": "stderr",
          "output_type": "stream",
          "text": [
            "Epoch 30/100 - Loss: 0.0002: 100%|██████████| 236/236 [00:22<00:00, 10.47it/s]\n",
            "Epoch 30/100 - Validation Batch: 26: 100%|██████████| 27/27 [00:00<00:00, 84.01it/s]\n"
          ]
        },
        {
          "name": "stdout",
          "output_type": "stream",
          "text": [
            "Epoch 30/100 - Validation F1 Score: 0.9907 - Validation Recall Score: 0.9907 - Validation Precision Score: 0.9907\n"
          ]
        },
        {
          "name": "stderr",
          "output_type": "stream",
          "text": [
            "Epoch 31/100 - Loss: 0.0002: 100%|██████████| 236/236 [00:22<00:00, 10.45it/s]\n",
            "Epoch 31/100 - Validation Batch: 26: 100%|██████████| 27/27 [00:00<00:00, 86.49it/s]\n"
          ]
        },
        {
          "name": "stdout",
          "output_type": "stream",
          "text": [
            "Epoch 31/100 - Validation F1 Score: 0.9861 - Validation Recall Score: 0.9907 - Validation Precision Score: 0.9815\n"
          ]
        },
        {
          "name": "stderr",
          "output_type": "stream",
          "text": [
            "Epoch 32/100 - Loss: 0.0003: 100%|██████████| 236/236 [00:22<00:00, 10.46it/s]\n",
            "Epoch 32/100 - Validation Batch: 26: 100%|██████████| 27/27 [00:00<00:00, 85.21it/s]\n"
          ]
        },
        {
          "name": "stdout",
          "output_type": "stream",
          "text": [
            "Epoch 32/100 - Validation F1 Score: 0.9907 - Validation Recall Score: 0.9907 - Validation Precision Score: 0.9907\n"
          ]
        },
        {
          "name": "stderr",
          "output_type": "stream",
          "text": [
            "Epoch 33/100 - Loss: 0.0002: 100%|██████████| 236/236 [00:22<00:00, 10.47it/s]\n",
            "Epoch 33/100 - Validation Batch: 26: 100%|██████████| 27/27 [00:00<00:00, 84.73it/s]\n"
          ]
        },
        {
          "name": "stdout",
          "output_type": "stream",
          "text": [
            "Epoch 33/100 - Validation F1 Score: 0.9907 - Validation Recall Score: 0.9907 - Validation Precision Score: 0.9907\n"
          ]
        },
        {
          "name": "stderr",
          "output_type": "stream",
          "text": [
            "Epoch 34/100 - Loss: 0.0002: 100%|██████████| 236/236 [00:22<00:00, 10.36it/s]\n",
            "Epoch 34/100 - Validation Batch: 26: 100%|██████████| 27/27 [00:00<00:00, 85.77it/s]\n"
          ]
        },
        {
          "name": "stdout",
          "output_type": "stream",
          "text": [
            "Epoch 34/100 - Validation F1 Score: 0.9907 - Validation Recall Score: 0.9907 - Validation Precision Score: 0.9907\n"
          ]
        },
        {
          "name": "stderr",
          "output_type": "stream",
          "text": [
            "Epoch 35/100 - Loss: 0.0003: 100%|██████████| 236/236 [00:22<00:00, 10.47it/s]\n",
            "Epoch 35/100 - Validation Batch: 26: 100%|██████████| 27/27 [00:00<00:00, 84.50it/s]\n"
          ]
        },
        {
          "name": "stdout",
          "output_type": "stream",
          "text": [
            "Epoch 35/100 - Validation F1 Score: 0.9907 - Validation Recall Score: 0.9907 - Validation Precision Score: 0.9907\n"
          ]
        },
        {
          "name": "stderr",
          "output_type": "stream",
          "text": [
            "Epoch 36/100 - Loss: 0.0002: 100%|██████████| 236/236 [00:22<00:00, 10.46it/s]\n",
            "Epoch 36/100 - Validation Batch: 26: 100%|██████████| 27/27 [00:00<00:00, 86.42it/s]\n"
          ]
        },
        {
          "name": "stdout",
          "output_type": "stream",
          "text": [
            "Epoch 36/100 - Validation F1 Score: 0.9907 - Validation Recall Score: 0.9907 - Validation Precision Score: 0.9907\n"
          ]
        },
        {
          "name": "stderr",
          "output_type": "stream",
          "text": [
            "Epoch 37/100 - Loss: 0.0002: 100%|██████████| 236/236 [00:22<00:00, 10.44it/s]\n",
            "Epoch 37/100 - Validation Batch: 26: 100%|██████████| 27/27 [00:00<00:00, 89.50it/s]\n"
          ]
        },
        {
          "name": "stdout",
          "output_type": "stream",
          "text": [
            "Epoch 37/100 - Validation F1 Score: 0.9907 - Validation Recall Score: 0.9907 - Validation Precision Score: 0.9907\n"
          ]
        },
        {
          "name": "stderr",
          "output_type": "stream",
          "text": [
            "Epoch 38/100 - Loss: 0.0002: 100%|██████████| 236/236 [00:22<00:00, 10.45it/s]\n",
            "Epoch 38/100 - Validation Batch: 26: 100%|██████████| 27/27 [00:00<00:00, 84.55it/s]\n"
          ]
        },
        {
          "name": "stdout",
          "output_type": "stream",
          "text": [
            "Epoch 38/100 - Validation F1 Score: 0.9907 - Validation Recall Score: 0.9907 - Validation Precision Score: 0.9907\n"
          ]
        },
        {
          "name": "stderr",
          "output_type": "stream",
          "text": [
            "Epoch 39/100 - Loss: 0.0002: 100%|██████████| 236/236 [00:22<00:00, 10.45it/s]\n",
            "Epoch 39/100 - Validation Batch: 26: 100%|██████████| 27/27 [00:00<00:00, 89.33it/s]\n"
          ]
        },
        {
          "name": "stdout",
          "output_type": "stream",
          "text": [
            "Epoch 39/100 - Validation F1 Score: 0.9907 - Validation Recall Score: 0.9907 - Validation Precision Score: 0.9907\n"
          ]
        },
        {
          "name": "stderr",
          "output_type": "stream",
          "text": [
            "Epoch 40/100 - Loss: 0.0002: 100%|██████████| 236/236 [00:22<00:00, 10.43it/s]\n",
            "Epoch 40/100 - Validation Batch: 26: 100%|██████████| 27/27 [00:00<00:00, 78.38it/s]\n"
          ]
        },
        {
          "name": "stdout",
          "output_type": "stream",
          "text": [
            "Epoch 40/100 - Validation F1 Score: 0.9907 - Validation Recall Score: 0.9907 - Validation Precision Score: 0.9907\n"
          ]
        },
        {
          "name": "stderr",
          "output_type": "stream",
          "text": [
            "Epoch 41/100 - Loss: 0.0002: 100%|██████████| 236/236 [00:22<00:00, 10.45it/s]\n",
            "Epoch 41/100 - Validation Batch: 26: 100%|██████████| 27/27 [00:00<00:00, 89.01it/s]\n"
          ]
        },
        {
          "name": "stdout",
          "output_type": "stream",
          "text": [
            "Epoch 41/100 - Validation F1 Score: 0.9907 - Validation Recall Score: 0.9907 - Validation Precision Score: 0.9907\n"
          ]
        },
        {
          "name": "stderr",
          "output_type": "stream",
          "text": [
            "Epoch 42/100 - Loss: 0.0002: 100%|██████████| 236/236 [00:22<00:00, 10.45it/s]\n",
            "Epoch 42/100 - Validation Batch: 26: 100%|██████████| 27/27 [00:00<00:00, 88.45it/s]\n"
          ]
        },
        {
          "name": "stdout",
          "output_type": "stream",
          "text": [
            "Epoch 42/100 - Validation F1 Score: 0.9907 - Validation Recall Score: 0.9907 - Validation Precision Score: 0.9907\n"
          ]
        },
        {
          "name": "stderr",
          "output_type": "stream",
          "text": [
            "Epoch 43/100 - Loss: 0.0002: 100%|██████████| 236/236 [00:22<00:00, 10.39it/s]\n",
            "Epoch 43/100 - Validation Batch: 26: 100%|██████████| 27/27 [00:00<00:00, 82.04it/s]\n"
          ]
        },
        {
          "name": "stdout",
          "output_type": "stream",
          "text": [
            "Epoch 43/100 - Validation F1 Score: 0.9907 - Validation Recall Score: 0.9907 - Validation Precision Score: 0.9907\n"
          ]
        },
        {
          "name": "stderr",
          "output_type": "stream",
          "text": [
            "Epoch 44/100 - Loss: 0.0002: 100%|██████████| 236/236 [00:22<00:00, 10.44it/s]\n",
            "Epoch 44/100 - Validation Batch: 26: 100%|██████████| 27/27 [00:00<00:00, 88.63it/s]\n"
          ]
        },
        {
          "name": "stdout",
          "output_type": "stream",
          "text": [
            "Epoch 44/100 - Validation F1 Score: 0.9907 - Validation Recall Score: 0.9907 - Validation Precision Score: 0.9907\n"
          ]
        },
        {
          "name": "stderr",
          "output_type": "stream",
          "text": [
            "Epoch 45/100 - Loss: 0.0002: 100%|██████████| 236/236 [00:22<00:00, 10.47it/s]\n",
            "Epoch 45/100 - Validation Batch: 26: 100%|██████████| 27/27 [00:00<00:00, 86.56it/s]\n"
          ]
        },
        {
          "name": "stdout",
          "output_type": "stream",
          "text": [
            "Epoch 45/100 - Validation F1 Score: 0.9907 - Validation Recall Score: 0.9907 - Validation Precision Score: 0.9907\n"
          ]
        },
        {
          "name": "stderr",
          "output_type": "stream",
          "text": [
            "Epoch 46/100 - Loss: 0.0002: 100%|██████████| 236/236 [00:22<00:00, 10.47it/s]\n",
            "Epoch 46/100 - Validation Batch: 26: 100%|██████████| 27/27 [00:00<00:00, 84.72it/s]\n"
          ]
        },
        {
          "name": "stdout",
          "output_type": "stream",
          "text": [
            "Epoch 46/100 - Validation F1 Score: 0.9907 - Validation Recall Score: 0.9907 - Validation Precision Score: 0.9907\n"
          ]
        },
        {
          "name": "stderr",
          "output_type": "stream",
          "text": [
            "Epoch 47/100 - Loss: 0.0003: 100%|██████████| 236/236 [00:22<00:00, 10.46it/s]\n",
            "Epoch 47/100 - Validation Batch: 26: 100%|██████████| 27/27 [00:00<00:00, 86.64it/s]\n"
          ]
        },
        {
          "name": "stdout",
          "output_type": "stream",
          "text": [
            "Epoch 47/100 - Validation F1 Score: 0.9907 - Validation Recall Score: 0.9907 - Validation Precision Score: 0.9907\n"
          ]
        },
        {
          "name": "stderr",
          "output_type": "stream",
          "text": [
            "Epoch 48/100 - Loss: 0.0003: 100%|██████████| 236/236 [00:22<00:00, 10.44it/s]\n",
            "Epoch 48/100 - Validation Batch: 26: 100%|██████████| 27/27 [00:00<00:00, 82.08it/s]\n"
          ]
        },
        {
          "name": "stdout",
          "output_type": "stream",
          "text": [
            "Epoch 48/100 - Validation F1 Score: 0.9861 - Validation Recall Score: 0.9907 - Validation Precision Score: 0.9815\n"
          ]
        },
        {
          "name": "stderr",
          "output_type": "stream",
          "text": [
            "Epoch 49/100 - Loss: 0.0002: 100%|██████████| 236/236 [00:22<00:00, 10.47it/s]\n",
            "Epoch 49/100 - Validation Batch: 26: 100%|██████████| 27/27 [00:00<00:00, 85.90it/s]\n"
          ]
        },
        {
          "name": "stdout",
          "output_type": "stream",
          "text": [
            "Epoch 49/100 - Validation F1 Score: 0.9907 - Validation Recall Score: 0.9907 - Validation Precision Score: 0.9907\n"
          ]
        },
        {
          "name": "stderr",
          "output_type": "stream",
          "text": [
            "Epoch 50/100 - Loss: 0.0002: 100%|██████████| 236/236 [00:22<00:00, 10.47it/s]\n",
            "Epoch 50/100 - Validation Batch: 26: 100%|██████████| 27/27 [00:00<00:00, 83.69it/s]\n"
          ]
        },
        {
          "name": "stdout",
          "output_type": "stream",
          "text": [
            "Epoch 50/100 - Validation F1 Score: 0.9907 - Validation Recall Score: 0.9907 - Validation Precision Score: 0.9907\n"
          ]
        },
        {
          "name": "stderr",
          "output_type": "stream",
          "text": [
            "Epoch 51/100 - Loss: 0.0002: 100%|██████████| 236/236 [00:23<00:00, 10.15it/s]\n",
            "Epoch 51/100 - Validation Batch: 26: 100%|██████████| 27/27 [00:00<00:00, 42.11it/s]\n"
          ]
        },
        {
          "name": "stdout",
          "output_type": "stream",
          "text": [
            "Epoch 51/100 - Validation F1 Score: 0.9907 - Validation Recall Score: 0.9907 - Validation Precision Score: 0.9907\n"
          ]
        },
        {
          "name": "stderr",
          "output_type": "stream",
          "text": [
            "Epoch 52/100 - Loss: 0.0002: 100%|██████████| 236/236 [00:23<00:00, 10.19it/s]\n",
            "Epoch 52/100 - Validation Batch: 26: 100%|██████████| 27/27 [00:00<00:00, 87.23it/s]\n"
          ]
        },
        {
          "name": "stdout",
          "output_type": "stream",
          "text": [
            "Epoch 52/100 - Validation F1 Score: 0.9907 - Validation Recall Score: 0.9907 - Validation Precision Score: 0.9907\n"
          ]
        },
        {
          "name": "stderr",
          "output_type": "stream",
          "text": [
            "Epoch 53/100 - Loss: 0.0002: 100%|██████████| 236/236 [00:22<00:00, 10.42it/s]\n",
            "Epoch 53/100 - Validation Batch: 26: 100%|██████████| 27/27 [00:00<00:00, 87.09it/s]\n"
          ]
        },
        {
          "name": "stdout",
          "output_type": "stream",
          "text": [
            "Epoch 53/100 - Validation F1 Score: 0.9861 - Validation Recall Score: 0.9907 - Validation Precision Score: 0.9815\n"
          ]
        },
        {
          "name": "stderr",
          "output_type": "stream",
          "text": [
            "Epoch 54/100 - Loss: 0.0004: 100%|██████████| 236/236 [00:22<00:00, 10.45it/s]\n",
            "Epoch 54/100 - Validation Batch: 26: 100%|██████████| 27/27 [00:00<00:00, 87.33it/s]\n"
          ]
        },
        {
          "name": "stdout",
          "output_type": "stream",
          "text": [
            "Epoch 54/100 - Validation F1 Score: 0.9907 - Validation Recall Score: 0.9907 - Validation Precision Score: 0.9907\n"
          ]
        },
        {
          "name": "stderr",
          "output_type": "stream",
          "text": [
            "Epoch 55/100 - Loss: 0.0002: 100%|██████████| 236/236 [00:22<00:00, 10.44it/s]\n",
            "Epoch 55/100 - Validation Batch: 26: 100%|██████████| 27/27 [00:00<00:00, 89.60it/s]\n"
          ]
        },
        {
          "name": "stdout",
          "output_type": "stream",
          "text": [
            "Epoch 55/100 - Validation F1 Score: 0.9907 - Validation Recall Score: 0.9907 - Validation Precision Score: 0.9907\n"
          ]
        },
        {
          "name": "stderr",
          "output_type": "stream",
          "text": [
            "Epoch 56/100 - Loss: 0.0002: 100%|██████████| 236/236 [00:22<00:00, 10.45it/s]\n",
            "Epoch 56/100 - Validation Batch: 26: 100%|██████████| 27/27 [00:00<00:00, 84.08it/s]\n"
          ]
        },
        {
          "name": "stdout",
          "output_type": "stream",
          "text": [
            "Epoch 56/100 - Validation F1 Score: 0.9907 - Validation Recall Score: 0.9907 - Validation Precision Score: 0.9907\n"
          ]
        },
        {
          "name": "stderr",
          "output_type": "stream",
          "text": [
            "Epoch 57/100 - Loss: 0.0002: 100%|██████████| 236/236 [00:22<00:00, 10.47it/s]\n",
            "Epoch 57/100 - Validation Batch: 26: 100%|██████████| 27/27 [00:00<00:00, 87.37it/s]\n"
          ]
        },
        {
          "name": "stdout",
          "output_type": "stream",
          "text": [
            "Epoch 57/100 - Validation F1 Score: 0.9907 - Validation Recall Score: 0.9907 - Validation Precision Score: 0.9907\n"
          ]
        },
        {
          "name": "stderr",
          "output_type": "stream",
          "text": [
            "Epoch 58/100 - Loss: 0.0002: 100%|██████████| 236/236 [00:22<00:00, 10.44it/s]\n",
            "Epoch 58/100 - Validation Batch: 26: 100%|██████████| 27/27 [00:00<00:00, 86.32it/s]\n"
          ]
        },
        {
          "name": "stdout",
          "output_type": "stream",
          "text": [
            "Epoch 58/100 - Validation F1 Score: 0.9907 - Validation Recall Score: 0.9907 - Validation Precision Score: 0.9907\n"
          ]
        },
        {
          "name": "stderr",
          "output_type": "stream",
          "text": [
            "Epoch 59/100 - Loss: 0.0001: 100%|██████████| 236/236 [00:22<00:00, 10.45it/s]\n",
            "Epoch 59/100 - Validation Batch: 26: 100%|██████████| 27/27 [00:00<00:00, 79.14it/s]\n"
          ]
        },
        {
          "name": "stdout",
          "output_type": "stream",
          "text": [
            "Epoch 59/100 - Validation F1 Score: 0.9907 - Validation Recall Score: 0.9907 - Validation Precision Score: 0.9907\n"
          ]
        },
        {
          "name": "stderr",
          "output_type": "stream",
          "text": [
            "Epoch 60/100 - Loss: 0.0002: 100%|██████████| 236/236 [00:22<00:00, 10.44it/s]\n",
            "Epoch 60/100 - Validation Batch: 26: 100%|██████████| 27/27 [00:00<00:00, 87.79it/s]\n"
          ]
        },
        {
          "name": "stdout",
          "output_type": "stream",
          "text": [
            "Epoch 60/100 - Validation F1 Score: 0.9907 - Validation Recall Score: 0.9907 - Validation Precision Score: 0.9907\n"
          ]
        },
        {
          "name": "stderr",
          "output_type": "stream",
          "text": [
            "Epoch 61/100 - Loss: 0.0002: 100%|██████████| 236/236 [00:22<00:00, 10.36it/s]\n",
            "Epoch 61/100 - Validation Batch: 26: 100%|██████████| 27/27 [00:00<00:00, 88.87it/s]\n"
          ]
        },
        {
          "name": "stdout",
          "output_type": "stream",
          "text": [
            "Epoch 61/100 - Validation F1 Score: 0.9907 - Validation Recall Score: 0.9907 - Validation Precision Score: 0.9907\n"
          ]
        },
        {
          "name": "stderr",
          "output_type": "stream",
          "text": [
            "Epoch 62/100 - Loss: 0.0002: 100%|██████████| 236/236 [00:22<00:00, 10.46it/s]\n",
            "Epoch 62/100 - Validation Batch: 26: 100%|██████████| 27/27 [00:00<00:00, 85.99it/s]\n"
          ]
        },
        {
          "name": "stdout",
          "output_type": "stream",
          "text": [
            "Epoch 62/100 - Validation F1 Score: 0.9861 - Validation Recall Score: 0.9907 - Validation Precision Score: 0.9815\n"
          ]
        },
        {
          "name": "stderr",
          "output_type": "stream",
          "text": [
            "Epoch 63/100 - Loss: 0.0003: 100%|██████████| 236/236 [00:22<00:00, 10.44it/s]\n",
            "Epoch 63/100 - Validation Batch: 26: 100%|██████████| 27/27 [00:00<00:00, 86.57it/s]\n"
          ]
        },
        {
          "name": "stdout",
          "output_type": "stream",
          "text": [
            "Epoch 63/100 - Validation F1 Score: 0.9907 - Validation Recall Score: 0.9907 - Validation Precision Score: 0.9907\n"
          ]
        },
        {
          "name": "stderr",
          "output_type": "stream",
          "text": [
            "Epoch 64/100 - Loss: 0.0002: 100%|██████████| 236/236 [00:22<00:00, 10.45it/s]\n",
            "Epoch 64/100 - Validation Batch: 26: 100%|██████████| 27/27 [00:00<00:00, 76.09it/s]\n"
          ]
        },
        {
          "name": "stdout",
          "output_type": "stream",
          "text": [
            "Epoch 64/100 - Validation F1 Score: 0.9907 - Validation Recall Score: 0.9907 - Validation Precision Score: 0.9907\n"
          ]
        },
        {
          "name": "stderr",
          "output_type": "stream",
          "text": [
            "Epoch 65/100 - Loss: 0.0002: 100%|██████████| 236/236 [00:22<00:00, 10.46it/s]\n",
            "Epoch 65/100 - Validation Batch: 26: 100%|██████████| 27/27 [00:00<00:00, 85.42it/s]\n"
          ]
        },
        {
          "name": "stdout",
          "output_type": "stream",
          "text": [
            "Epoch 65/100 - Validation F1 Score: 0.9907 - Validation Recall Score: 0.9907 - Validation Precision Score: 0.9907\n"
          ]
        },
        {
          "name": "stderr",
          "output_type": "stream",
          "text": [
            "Epoch 66/100 - Loss: 0.0003: 100%|██████████| 236/236 [00:22<00:00, 10.44it/s]\n",
            "Epoch 66/100 - Validation Batch: 26: 100%|██████████| 27/27 [00:00<00:00, 84.63it/s]\n"
          ]
        },
        {
          "name": "stdout",
          "output_type": "stream",
          "text": [
            "Epoch 66/100 - Validation F1 Score: 0.9907 - Validation Recall Score: 0.9907 - Validation Precision Score: 0.9907\n"
          ]
        },
        {
          "name": "stderr",
          "output_type": "stream",
          "text": [
            "Epoch 67/100 - Loss: 0.0002: 100%|██████████| 236/236 [00:22<00:00, 10.44it/s]\n",
            "Epoch 67/100 - Validation Batch: 26: 100%|██████████| 27/27 [00:00<00:00, 84.84it/s]\n"
          ]
        },
        {
          "name": "stdout",
          "output_type": "stream",
          "text": [
            "Epoch 67/100 - Validation F1 Score: 0.9907 - Validation Recall Score: 0.9907 - Validation Precision Score: 0.9907\n"
          ]
        },
        {
          "name": "stderr",
          "output_type": "stream",
          "text": [
            "Epoch 68/100 - Loss: 0.0003: 100%|██████████| 236/236 [00:22<00:00, 10.45it/s]\n",
            "Epoch 68/100 - Validation Batch: 26: 100%|██████████| 27/27 [00:00<00:00, 85.40it/s]\n"
          ]
        },
        {
          "name": "stdout",
          "output_type": "stream",
          "text": [
            "Epoch 68/100 - Validation F1 Score: 0.9861 - Validation Recall Score: 0.9907 - Validation Precision Score: 0.9815\n"
          ]
        },
        {
          "name": "stderr",
          "output_type": "stream",
          "text": [
            "Epoch 69/100 - Loss: 0.0002: 100%|██████████| 236/236 [00:22<00:00, 10.45it/s]\n",
            "Epoch 69/100 - Validation Batch: 26: 100%|██████████| 27/27 [00:00<00:00, 87.64it/s]\n"
          ]
        },
        {
          "name": "stdout",
          "output_type": "stream",
          "text": [
            "Epoch 69/100 - Validation F1 Score: 0.9907 - Validation Recall Score: 0.9907 - Validation Precision Score: 0.9907\n"
          ]
        },
        {
          "name": "stderr",
          "output_type": "stream",
          "text": [
            "Epoch 70/100 - Loss: 0.0002: 100%|██████████| 236/236 [00:22<00:00, 10.36it/s]\n",
            "Epoch 70/100 - Validation Batch: 26: 100%|██████████| 27/27 [00:00<00:00, 85.55it/s]\n"
          ]
        },
        {
          "name": "stdout",
          "output_type": "stream",
          "text": [
            "Epoch 70/100 - Validation F1 Score: 0.9907 - Validation Recall Score: 0.9907 - Validation Precision Score: 0.9907\n"
          ]
        },
        {
          "name": "stderr",
          "output_type": "stream",
          "text": [
            "Epoch 71/100 - Loss: 0.0003: 100%|██████████| 236/236 [00:22<00:00, 10.45it/s]\n",
            "Epoch 71/100 - Validation Batch: 26: 100%|██████████| 27/27 [00:00<00:00, 85.40it/s]\n"
          ]
        },
        {
          "name": "stdout",
          "output_type": "stream",
          "text": [
            "Epoch 71/100 - Validation F1 Score: 0.9907 - Validation Recall Score: 0.9907 - Validation Precision Score: 0.9907\n"
          ]
        },
        {
          "name": "stderr",
          "output_type": "stream",
          "text": [
            "Epoch 72/100 - Loss: 0.0003: 100%|██████████| 236/236 [00:22<00:00, 10.45it/s]\n",
            "Epoch 72/100 - Validation Batch: 26: 100%|██████████| 27/27 [00:00<00:00, 78.72it/s]\n"
          ]
        },
        {
          "name": "stdout",
          "output_type": "stream",
          "text": [
            "Epoch 72/100 - Validation F1 Score: 0.9907 - Validation Recall Score: 0.9907 - Validation Precision Score: 0.9907\n"
          ]
        },
        {
          "name": "stderr",
          "output_type": "stream",
          "text": [
            "Epoch 73/100 - Loss: 0.0002: 100%|██████████| 236/236 [00:22<00:00, 10.46it/s]\n",
            "Epoch 73/100 - Validation Batch: 26: 100%|██████████| 27/27 [00:00<00:00, 88.72it/s]\n"
          ]
        },
        {
          "name": "stdout",
          "output_type": "stream",
          "text": [
            "Epoch 73/100 - Validation F1 Score: 0.9907 - Validation Recall Score: 0.9907 - Validation Precision Score: 0.9907\n"
          ]
        },
        {
          "name": "stderr",
          "output_type": "stream",
          "text": [
            "Epoch 74/100 - Loss: 0.0002: 100%|██████████| 236/236 [00:22<00:00, 10.44it/s]\n",
            "Epoch 74/100 - Validation Batch: 26: 100%|██████████| 27/27 [00:00<00:00, 87.11it/s]\n"
          ]
        },
        {
          "name": "stdout",
          "output_type": "stream",
          "text": [
            "Epoch 74/100 - Validation F1 Score: 0.9907 - Validation Recall Score: 0.9907 - Validation Precision Score: 0.9907\n"
          ]
        },
        {
          "name": "stderr",
          "output_type": "stream",
          "text": [
            "Epoch 75/100 - Loss: 0.0002: 100%|██████████| 236/236 [00:22<00:00, 10.44it/s]\n",
            "Epoch 75/100 - Validation Batch: 26: 100%|██████████| 27/27 [00:00<00:00, 81.45it/s]\n"
          ]
        },
        {
          "name": "stdout",
          "output_type": "stream",
          "text": [
            "Epoch 75/100 - Validation F1 Score: 0.9907 - Validation Recall Score: 0.9907 - Validation Precision Score: 0.9907\n"
          ]
        },
        {
          "name": "stderr",
          "output_type": "stream",
          "text": [
            "Epoch 76/100 - Loss: 0.0002: 100%|██████████| 236/236 [00:22<00:00, 10.45it/s]\n",
            "Epoch 76/100 - Validation Batch: 26: 100%|██████████| 27/27 [00:00<00:00, 89.33it/s]\n"
          ]
        },
        {
          "name": "stdout",
          "output_type": "stream",
          "text": [
            "Epoch 76/100 - Validation F1 Score: 0.9907 - Validation Recall Score: 0.9907 - Validation Precision Score: 0.9907\n"
          ]
        },
        {
          "name": "stderr",
          "output_type": "stream",
          "text": [
            "Epoch 77/100 - Loss: 0.0002: 100%|██████████| 236/236 [00:22<00:00, 10.45it/s]\n",
            "Epoch 77/100 - Validation Batch: 26: 100%|██████████| 27/27 [00:00<00:00, 88.49it/s]\n"
          ]
        },
        {
          "name": "stdout",
          "output_type": "stream",
          "text": [
            "Epoch 77/100 - Validation F1 Score: 0.9907 - Validation Recall Score: 0.9907 - Validation Precision Score: 0.9907\n"
          ]
        },
        {
          "name": "stderr",
          "output_type": "stream",
          "text": [
            "Epoch 78/100 - Loss: 0.0002: 100%|██████████| 236/236 [00:22<00:00, 10.45it/s]\n",
            "Epoch 78/100 - Validation Batch: 26: 100%|██████████| 27/27 [00:00<00:00, 81.21it/s]\n"
          ]
        },
        {
          "name": "stdout",
          "output_type": "stream",
          "text": [
            "Epoch 78/100 - Validation F1 Score: 0.9907 - Validation Recall Score: 0.9907 - Validation Precision Score: 0.9907\n"
          ]
        },
        {
          "name": "stderr",
          "output_type": "stream",
          "text": [
            "Epoch 79/100 - Loss: 0.0002: 100%|██████████| 236/236 [00:22<00:00, 10.44it/s]\n",
            "Epoch 79/100 - Validation Batch: 26: 100%|██████████| 27/27 [00:00<00:00, 88.32it/s]\n"
          ]
        },
        {
          "name": "stdout",
          "output_type": "stream",
          "text": [
            "Epoch 79/100 - Validation F1 Score: 0.9907 - Validation Recall Score: 0.9907 - Validation Precision Score: 0.9907\n"
          ]
        },
        {
          "name": "stderr",
          "output_type": "stream",
          "text": [
            "Epoch 80/100 - Loss: 0.0002: 100%|██████████| 236/236 [00:22<00:00, 10.31it/s]\n",
            "Epoch 80/100 - Validation Batch: 26: 100%|██████████| 27/27 [00:00<00:00, 88.87it/s]\n"
          ]
        },
        {
          "name": "stdout",
          "output_type": "stream",
          "text": [
            "Epoch 80/100 - Validation F1 Score: 0.9907 - Validation Recall Score: 0.9907 - Validation Precision Score: 0.9907\n"
          ]
        },
        {
          "name": "stderr",
          "output_type": "stream",
          "text": [
            "Epoch 81/100 - Loss: 0.0003: 100%|██████████| 236/236 [00:22<00:00, 10.46it/s]\n",
            "Epoch 81/100 - Validation Batch: 26: 100%|██████████| 27/27 [00:00<00:00, 87.43it/s]\n"
          ]
        },
        {
          "name": "stdout",
          "output_type": "stream",
          "text": [
            "Epoch 81/100 - Validation F1 Score: 0.9907 - Validation Recall Score: 0.9907 - Validation Precision Score: 0.9907\n"
          ]
        },
        {
          "name": "stderr",
          "output_type": "stream",
          "text": [
            "Epoch 82/100 - Loss: 0.0002: 100%|██████████| 236/236 [00:22<00:00, 10.42it/s]\n",
            "Epoch 82/100 - Validation Batch: 26: 100%|██████████| 27/27 [00:00<00:00, 88.35it/s]\n"
          ]
        },
        {
          "name": "stdout",
          "output_type": "stream",
          "text": [
            "Epoch 82/100 - Validation F1 Score: 0.9907 - Validation Recall Score: 0.9907 - Validation Precision Score: 0.9907\n"
          ]
        },
        {
          "name": "stderr",
          "output_type": "stream",
          "text": [
            "Epoch 83/100 - Loss: 0.0002: 100%|██████████| 236/236 [00:22<00:00, 10.43it/s]\n",
            "Epoch 83/100 - Validation Batch: 26: 100%|██████████| 27/27 [00:00<00:00, 81.58it/s]\n"
          ]
        },
        {
          "name": "stdout",
          "output_type": "stream",
          "text": [
            "Epoch 83/100 - Validation F1 Score: 0.9907 - Validation Recall Score: 0.9907 - Validation Precision Score: 0.9907\n"
          ]
        },
        {
          "name": "stderr",
          "output_type": "stream",
          "text": [
            "Epoch 84/100 - Loss: 0.0002: 100%|██████████| 236/236 [00:22<00:00, 10.45it/s]\n",
            "Epoch 84/100 - Validation Batch: 26: 100%|██████████| 27/27 [00:00<00:00, 87.47it/s]\n"
          ]
        },
        {
          "name": "stdout",
          "output_type": "stream",
          "text": [
            "Epoch 84/100 - Validation F1 Score: 0.9861 - Validation Recall Score: 0.9907 - Validation Precision Score: 0.9815\n"
          ]
        },
        {
          "name": "stderr",
          "output_type": "stream",
          "text": [
            "Epoch 85/100 - Loss: 0.0002: 100%|██████████| 236/236 [00:22<00:00, 10.43it/s]\n",
            "Epoch 85/100 - Validation Batch: 26: 100%|██████████| 27/27 [00:00<00:00, 85.98it/s]\n"
          ]
        },
        {
          "name": "stdout",
          "output_type": "stream",
          "text": [
            "Epoch 85/100 - Validation F1 Score: 0.9907 - Validation Recall Score: 0.9907 - Validation Precision Score: 0.9907\n"
          ]
        },
        {
          "name": "stderr",
          "output_type": "stream",
          "text": [
            "Epoch 86/100 - Loss: 0.0002: 100%|██████████| 236/236 [00:22<00:00, 10.44it/s]\n",
            "Epoch 86/100 - Validation Batch: 26: 100%|██████████| 27/27 [00:00<00:00, 80.70it/s]\n"
          ]
        },
        {
          "name": "stdout",
          "output_type": "stream",
          "text": [
            "Epoch 86/100 - Validation F1 Score: 0.9907 - Validation Recall Score: 0.9907 - Validation Precision Score: 0.9907\n"
          ]
        },
        {
          "name": "stderr",
          "output_type": "stream",
          "text": [
            "Epoch 87/100 - Loss: 0.0002: 100%|██████████| 236/236 [00:22<00:00, 10.45it/s]\n",
            "Epoch 87/100 - Validation Batch: 26: 100%|██████████| 27/27 [00:00<00:00, 86.56it/s]\n"
          ]
        },
        {
          "name": "stdout",
          "output_type": "stream",
          "text": [
            "Epoch 87/100 - Validation F1 Score: 0.9861 - Validation Recall Score: 0.9907 - Validation Precision Score: 0.9815\n"
          ]
        },
        {
          "name": "stderr",
          "output_type": "stream",
          "text": [
            "Epoch 88/100 - Loss: 0.0002: 100%|██████████| 236/236 [00:22<00:00, 10.30it/s]\n",
            "Epoch 88/100 - Validation Batch: 26: 100%|██████████| 27/27 [00:00<00:00, 86.33it/s]\n"
          ]
        },
        {
          "name": "stdout",
          "output_type": "stream",
          "text": [
            "Epoch 88/100 - Validation F1 Score: 0.9907 - Validation Recall Score: 0.9907 - Validation Precision Score: 0.9907\n"
          ]
        },
        {
          "name": "stderr",
          "output_type": "stream",
          "text": [
            "Epoch 89/100 - Loss: 0.0002: 100%|██████████| 236/236 [00:22<00:00, 10.46it/s]\n",
            "Epoch 89/100 - Validation Batch: 26: 100%|██████████| 27/27 [00:00<00:00, 85.49it/s]\n"
          ]
        },
        {
          "name": "stdout",
          "output_type": "stream",
          "text": [
            "Epoch 89/100 - Validation F1 Score: 0.9907 - Validation Recall Score: 0.9907 - Validation Precision Score: 0.9907\n"
          ]
        },
        {
          "name": "stderr",
          "output_type": "stream",
          "text": [
            "Epoch 90/100 - Loss: 0.0002: 100%|██████████| 236/236 [00:22<00:00, 10.44it/s]\n",
            "Epoch 90/100 - Validation Batch: 26: 100%|██████████| 27/27 [00:00<00:00, 86.29it/s]\n"
          ]
        },
        {
          "name": "stdout",
          "output_type": "stream",
          "text": [
            "Epoch 90/100 - Validation F1 Score: 0.9907 - Validation Recall Score: 0.9907 - Validation Precision Score: 0.9907\n"
          ]
        },
        {
          "name": "stderr",
          "output_type": "stream",
          "text": [
            "Epoch 91/100 - Loss: 0.0002: 100%|██████████| 236/236 [00:22<00:00, 10.44it/s]\n",
            "Epoch 91/100 - Validation Batch: 26: 100%|██████████| 27/27 [00:00<00:00, 83.09it/s]\n"
          ]
        },
        {
          "name": "stdout",
          "output_type": "stream",
          "text": [
            "Epoch 91/100 - Validation F1 Score: 0.9907 - Validation Recall Score: 0.9907 - Validation Precision Score: 0.9907\n"
          ]
        },
        {
          "name": "stderr",
          "output_type": "stream",
          "text": [
            "Epoch 92/100 - Loss: 0.0002: 100%|██████████| 236/236 [00:22<00:00, 10.46it/s]\n",
            "Epoch 92/100 - Validation Batch: 26: 100%|██████████| 27/27 [00:00<00:00, 86.80it/s]\n"
          ]
        },
        {
          "name": "stdout",
          "output_type": "stream",
          "text": [
            "Epoch 92/100 - Validation F1 Score: 0.9907 - Validation Recall Score: 0.9907 - Validation Precision Score: 0.9907\n"
          ]
        },
        {
          "name": "stderr",
          "output_type": "stream",
          "text": [
            "Epoch 93/100 - Loss: 0.0002: 100%|██████████| 236/236 [00:22<00:00, 10.43it/s]\n",
            "Epoch 93/100 - Validation Batch: 26: 100%|██████████| 27/27 [00:00<00:00, 86.31it/s]\n"
          ]
        },
        {
          "name": "stdout",
          "output_type": "stream",
          "text": [
            "Epoch 93/100 - Validation F1 Score: 0.9907 - Validation Recall Score: 0.9907 - Validation Precision Score: 0.9907\n"
          ]
        },
        {
          "name": "stderr",
          "output_type": "stream",
          "text": [
            "Epoch 94/100 - Loss: 0.0002: 100%|██████████| 236/236 [00:22<00:00, 10.44it/s]\n",
            "Epoch 94/100 - Validation Batch: 26: 100%|██████████| 27/27 [00:00<00:00, 86.56it/s]\n"
          ]
        },
        {
          "name": "stdout",
          "output_type": "stream",
          "text": [
            "Epoch 94/100 - Validation F1 Score: 0.9907 - Validation Recall Score: 0.9907 - Validation Precision Score: 0.9907\n"
          ]
        },
        {
          "name": "stderr",
          "output_type": "stream",
          "text": [
            "Epoch 95/100 - Loss: 0.0002: 100%|██████████| 236/236 [00:22<00:00, 10.45it/s]\n",
            "Epoch 95/100 - Validation Batch: 26: 100%|██████████| 27/27 [00:00<00:00, 88.55it/s]\n"
          ]
        },
        {
          "name": "stdout",
          "output_type": "stream",
          "text": [
            "Epoch 95/100 - Validation F1 Score: 0.9907 - Validation Recall Score: 0.9907 - Validation Precision Score: 0.9907\n"
          ]
        },
        {
          "name": "stderr",
          "output_type": "stream",
          "text": [
            "Epoch 96/100 - Loss: 0.0002: 100%|██████████| 236/236 [00:22<00:00, 10.46it/s]\n",
            "Epoch 96/100 - Validation Batch: 26: 100%|██████████| 27/27 [00:00<00:00, 88.35it/s]\n"
          ]
        },
        {
          "name": "stdout",
          "output_type": "stream",
          "text": [
            "Epoch 96/100 - Validation F1 Score: 0.9907 - Validation Recall Score: 0.9907 - Validation Precision Score: 0.9907\n"
          ]
        },
        {
          "name": "stderr",
          "output_type": "stream",
          "text": [
            "Epoch 97/100 - Loss: 0.0002: 100%|██████████| 236/236 [00:22<00:00, 10.36it/s]\n",
            "Epoch 97/100 - Validation Batch: 26: 100%|██████████| 27/27 [00:00<00:00, 84.38it/s]\n"
          ]
        },
        {
          "name": "stdout",
          "output_type": "stream",
          "text": [
            "Epoch 97/100 - Validation F1 Score: 0.9907 - Validation Recall Score: 0.9907 - Validation Precision Score: 0.9907\n"
          ]
        },
        {
          "name": "stderr",
          "output_type": "stream",
          "text": [
            "Epoch 98/100 - Loss: 0.0002: 100%|██████████| 236/236 [00:22<00:00, 10.43it/s]\n",
            "Epoch 98/100 - Validation Batch: 26: 100%|██████████| 27/27 [00:00<00:00, 85.27it/s]\n"
          ]
        },
        {
          "name": "stdout",
          "output_type": "stream",
          "text": [
            "Epoch 98/100 - Validation F1 Score: 0.9907 - Validation Recall Score: 0.9907 - Validation Precision Score: 0.9907\n"
          ]
        },
        {
          "name": "stderr",
          "output_type": "stream",
          "text": [
            "Epoch 99/100 - Loss: 0.0001: 100%|██████████| 236/236 [00:22<00:00, 10.41it/s]\n",
            "Epoch 99/100 - Validation Batch: 26: 100%|██████████| 27/27 [00:00<00:00, 76.47it/s]\n"
          ]
        },
        {
          "name": "stdout",
          "output_type": "stream",
          "text": [
            "Epoch 99/100 - Validation F1 Score: 0.9907 - Validation Recall Score: 0.9907 - Validation Precision Score: 0.9907\n"
          ]
        },
        {
          "name": "stderr",
          "output_type": "stream",
          "text": [
            "Epoch 100/100 - Loss: 0.0002: 100%|██████████| 236/236 [00:22<00:00, 10.44it/s]\n",
            "Epoch 100/100 - Validation Batch: 26: 100%|██████████| 27/27 [00:00<00:00, 88.85it/s]\n"
          ]
        },
        {
          "name": "stdout",
          "output_type": "stream",
          "text": [
            "Epoch 100/100 - Validation F1 Score: 0.9907 - Validation Recall Score: 0.9907 - Validation Precision Score: 0.9907\n",
            "Best F1: 0.9907, Precision: 0.9907, Recall: 0.9907\n",
            "\n",
            "\n",
            "\n",
            "\n"
          ]
        },
        {
          "data": {
            "image/png": "[encoded data removed]",
            "text/plain": [
              "<Figure size 1200x400 with 2 Axes>"
            ]
          },
          "metadata": {},
          "output_type": "display_data"
        }
      ],
      "source": [
        "from torchmetrics import Precision, Recall, F1Score\n",
        "import torch.nn.functional as F\n",
        "import json\n",
        "import matplotlib.pyplot as plt\n",
        "\n",
        "# Define params\n",
        "learning_rate = 0.0001\n",
        "batch_size = 32\n",
        "weight_decay = 1e-6\n",
        "criterion = torch.nn.CrossEntropyLoss()  # For multi-class or binary classification\n",
        "optimizer = torch.optim.AdamW(model.parameters(), lr=learning_rate, weight_decay=weight_decay)  # AdamW with L2 regularization\n",
        "\n",
        "\n",
        "def train_model(model, model_name, train_loader, val_loader, criterion, optimizer, num_epochs=100, patience=10):\n",
        "    patience_counter = 0\n",
        "    best_validation_f1 = 0\n",
        "    best_validation_recall = 0\n",
        "    best_validation_precision = 0\n",
        "    train_losses = []\n",
        "    train_f1s = []\n",
        "    val_losses = []\n",
        "    val_f1s = []\n",
        "    val_recalls = []\n",
        "    val_precisions = []\n",
        "    recall_score_metric = Recall(task='binary')\n",
        "    precision_score_metric = Precision(task='binary')\n",
        "    f1_score_metric = F1Score(task='binary')\n",
        "    scheduler = torch.optim.lr_scheduler.ExponentialLR(optimizer, gamma=0.8)\n",
        "    for epoch in range(num_epochs):\n",
        "        model.train()\n",
        "        p_bar = tqdm(train_loader)\n",
        "        running_loss = 0\n",
        "        all_preds = []\n",
        "        all_labels = []\n",
        "        for i, (images, labels) in enumerate(p_bar):\n",
        "            images, labels = images.to(device), labels.to(device)\n",
        "            optimizer.zero_grad()\n",
        "            outputs = model(images)\n",
        "            loss = criterion(outputs, labels)\n",
        "            loss.backward()\n",
        "            optimizer.step()\n",
        "            running_loss += loss.item()\n",
        "            _, preds = torch.max(outputs, 1)\n",
        "            all_preds.extend(preds.cpu())\n",
        "            all_labels.extend(labels.cpu())\n",
        "            p_bar.set_description(f\"Epoch {epoch+1}/{num_epochs} - Loss: {(running_loss / (i + 1)):.4f}\")\n",
        "\n",
        "        train_losses.append(round(running_loss / len(train_loader), 4))\n",
        "        all_preds = torch.tensor(all_preds, dtype=torch.float32)\n",
        "        all_labels = torch.tensor(all_labels, dtype=torch.long)\n",
        "        train_f1s.append(round(f1_score_metric(all_labels, all_preds).item(), 4))\n",
        "\n",
        "        if (epoch + 1) % 1 == 0:\n",
        "            model.eval()\n",
        "            p_bar = tqdm(val_loader)\n",
        "            all_preds = []\n",
        "            all_labels = []\n",
        "            with torch.no_grad():\n",
        "                running_loss = 0\n",
        "                for i, (images, labels) in enumerate(p_bar):\n",
        "                    images, labels = images.to(device), labels.to(device)\n",
        "                    outputs = model(images)\n",
        "                    loss = criterion(outputs, labels)\n",
        "                    running_loss += loss.item()\n",
        "                    outputs = F.softmax(outputs, dim=1)\n",
        "                    _, preds = torch.max(outputs, 1)\n",
        "                    all_preds.extend(preds.cpu())\n",
        "                    all_labels.extend(labels.cpu())\n",
        "                    p_bar.set_description(f'Epoch {epoch+1}/{num_epochs} - Validation Batch: {i}')\n",
        "\n",
        "                all_preds = torch.tensor(all_preds, dtype=torch.float32)\n",
        "                all_labels = torch.tensor(all_labels, dtype=torch.long)\n",
        "                precision = round(precision_score_metric(all_labels, all_preds).item(), 4)\n",
        "                recall = round(recall_score_metric(all_labels, all_preds).item(), 4)\n",
        "                f1 = round(2 * (precision * recall)/(precision + recall + 1e-10), 4)\n",
        "\n",
        "                val_losses.append(round(running_loss / len(val_loader), 4))\n",
        "                val_f1s.append(f1)\n",
        "                val_recalls.append(recall )\n",
        "                val_precisions.append(precision)\n",
        "\n",
        "                print(f\"Epoch {epoch+1}/{num_epochs} - Validation F1 Score: {f1:.4f} - Validation Recall Score: {recall:.4f} - Validation Precision Score: {precision:.4f}\")\n",
        "                if f1 > best_validation_f1:\n",
        "                    best_validation_f1 = f1\n",
        "                    best_validation_precision = precision\n",
        "                    best_validation_recall = recall\n",
        "                    patience_counter = 0\n",
        "                    print('Exceeded')\n",
        "                    torch.save(model.state_dict(), os.path.join('/content/drive/MyDrive/model_results', 'best_model_resnet.pth'))\n",
        "\n",
        "                else:\n",
        "                    patience_counter += 1\n",
        "            scheduler.step()\n",
        "            if patience_counter >= patience:\n",
        "                print(f\"Early stopping triggered after {epoch+1} epochs.\")\n",
        "                break\n",
        "    return train_losses, train_f1s, val_losses, val_f1s, val_recalls, val_precisions, best_validation_f1, best_validation_precision, best_validation_recall\n",
        "\n",
        "\n",
        "model_name = 'ResNet18'\n",
        "print(f'Start training of: {model_name}')\n",
        "train_losses, train_f1s, val_losses, val_f1s, val_recalls, val_precisions, best_val_f1, best_val_precision, best_val_recall = train_model(model, _, train_loader, val_loader, criterion, optimizer, num_epochs=100, patience=100)\n",
        "\n",
        "# Start training\n",
        "print(f'Best F1: {best_val_f1}, Precision: {best_val_precision}, Recall: {best_val_recall}')\n",
        "#print('Val F1s', val_f1s)\n",
        "#print('Val Recalls: ', val_recalls)\n",
        "#print('Val Precisons: ', val_precisions)\n",
        "\n",
        "# Plot training and validation loss\n",
        "\n",
        "out_dict = {\n",
        "    'train_losses': train_losses,\n",
        "    'train_f1s': train_f1s,\n",
        "    'val_losses': val_losses,\n",
        "    'val_f1s': val_f1s,\n",
        "    'val_recalls': val_recalls,\n",
        "    'val_precisions': val_precisions,\n",
        "    'best_val_f1': best_val_f1,\n",
        "    'best_val_precision': best_val_precision,\n",
        "    'best_val_recall': best_val_recall\n",
        "}\n",
        "\n",
        "# Plot training and validation accuracy\n",
        "plt.figure(figsize=(12, 4))\n",
        "plt.subplot(1, 2, 1)\n",
        "plt.plot(range(1, len(train_losses) + 1), train_losses, label='Train Loss')\n",
        "plt.plot(range(1, len(val_losses) + 1), val_losses, label='Validation Loss')\n",
        "plt.xlabel('Epoch')\n",
        "plt.ylabel('Loss')\n",
        "plt.title('Training and Validation Loss')\n",
        "plt.legend()\n",
        "plt.subplot(1, 2, 2)\n",
        "plt.plot(range(1, len(train_f1s) + 1), train_f1s, label='Train F1 Score')\n",
        "plt.plot(range(1, len(val_f1s) + 1), val_f1s, label='Validation F1 Score')\n",
        "plt.xlabel('Epoch')\n",
        "plt.ylabel('F1-Score')\n",
        "plt.title('Training and Validation F1 Score')\n",
        "plt.legend()\n",
        "#plt.tight_layout()\n",
        "plt.savefig(f'/content/drive/MyDrive/model_results/{model_name}_F1.png')\n",
        "print('\\n\\n\\n')\n",
        "\n",
        "with open(f'/content/drive/MyDrive/model_results/{model_name}results.json', 'w') as fp:\n",
        "  json.dump({'ResNet18': out_dict}, fp, indent=2)"
      ]
    },
    {
      "cell_type": "markdown",
      "metadata": {
        "id": "FZ-Sw9n_Xoxx"
      },
      "source": [
        "### **Testing**"
      ]
    },
    {
      "cell_type": "code",
      "execution_count": 18,
      "metadata": {
        "colab": {
          "base_uri": "https://localhost:8080/"
        },
        "id": "aW6M8ESPYt7f",
        "outputId": "dff742ff-d0d6-4701-ce50-d2e6f0c079f1"
      },
      "outputs": [
        {
          "data": {
            "text/plain": [
              "<All keys matched successfully>"
            ]
          },
          "execution_count": 18,
          "metadata": {},
          "output_type": "execute_result"
        }
      ],
      "source": [
        "state_dict = torch.load('/content/drive/MyDrive/model_results/best_model_resnet.pth', weights_only=True)\n",
        "model.load_state_dict(state_dict)"
      ]
    },
    {
      "cell_type": "code",
      "execution_count": 19,
      "metadata": {
        "colab": {
          "base_uri": "https://localhost:8080/"
        },
        "id": "UAvunQT-Xtwx",
        "outputId": "7a04ada1-649d-4ac1-ec40-ec9defd9c009"
      },
      "outputs": [
        {
          "name": "stdout",
          "output_type": "stream",
          "text": [
            "Precision: 0.9974, Recall: 0.7843, F1: 0.8781\n"
          ]
        }
      ],
      "source": [
        "\n",
        "recall_score_metric = Recall(task='binary')\n",
        "precision_score_metric = Precision(task='binary')\n",
        "\n",
        "all_preds = []\n",
        "all_labels = []\n",
        "for images, labels in test_loader:\n",
        "  images, labels = images.to(device), labels.to(device)\n",
        "  outputs = model(images)\n",
        "  _, preds = torch.max(outputs, 1)\n",
        "  all_preds.extend(preds.cpu())\n",
        "  all_labels.extend(labels)\n",
        "\n",
        "all_preds = torch.tensor(all_preds, dtype=torch.float32)\n",
        "all_labels = torch.tensor(all_labels, dtype=torch.long)\n",
        "precision = round(precision_score_metric(all_labels, all_preds).item(), 4)\n",
        "recall = round(recall_score_metric(all_labels, all_preds).item(), 4)\n",
        "f1 = round(2 * (precision * recall)/(precision + recall + 1e-10), 4)\n",
        "\n",
        "print(f'Precision: {precision}, Recall: {recall}, F1: {f1}')\n",
        "\n",
        "\n",
        "\n",
        "\n"
      ]
    }
  ],
  "metadata": {
    "accelerator": "GPU",
    "colab": {
      "gpuType": "T4",
      "provenance": []
    },
    "kernelspec": {
      "display_name": "Python 3",
      "name": "python3"
    },
    "language_info": {
      "codemirror_mode": {
        "name": "ipython",
        "version": 3
      },
      "file_extension": ".py",
      "mimetype": "text/x-python",
      "name": "python",
      "nbconvert_exporter": "python",
      "pygments_lexer": "ipython3",
      "version": "3.11.11"
    }
  },
  "nbformat": 4,
  "nbformat_minor": 0
}
