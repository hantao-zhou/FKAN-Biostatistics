{
  "cells": [
    {
      "cell_type": "code",
      "execution_count": 2,
      "metadata": {
        "colab": {
          "base_uri": "https://localhost:8080/"
        },
        "id": "xT4iG--NOpTw",
        "outputId": "9da41fdb-deca-42ac-9a54-360016c7fc1f"
      },
      "outputs": [],
      "source": [
        "import os\n",
        "import cv2\n",
        "import numpy as np\n",
        "import torch\n",
        "import torch.nn as nn\n",
        "import torchvision\n",
        "from tqdm import tqdm"
      ]
    },
    {
      "cell_type": "code",
      "execution_count": 4,
      "metadata": {
        "colab": {
          "base_uri": "https://localhost:8080/"
        },
        "id": "11680mFSNiEV",
        "outputId": "6650f38a-c94f-4c88-9d51-12d855984734"
      },
      "outputs": [
        {
          "name": "stderr",
          "output_type": "stream",
          "text": [
            "100%|██████████| 234/234 [00:00<00:00, 993.22it/s]\n",
            "100%|██████████| 390/390 [00:00<00:00, 1108.83it/s]\n",
            "100%|██████████| 3775/3775 [00:03<00:00, 1045.72it/s]\n",
            "100%|██████████| 3775/3775 [00:03<00:00, 1052.23it/s]\n",
            "100%|██████████| 108/108 [00:00<00:00, 1033.31it/s]\n",
            "100%|██████████| 108/108 [00:00<00:00, 1231.16it/s]\n"
          ]
        }
      ],
      "source": [
        "labels = ['NORMAL', 'PNEUMONIA']\n",
        "img_size = 224\n",
        "\n",
        "def get_training_data(data_dir):\n",
        "    data = []\n",
        "\n",
        "    for label in labels:\n",
        "        path = os.path.join(data_dir, label)\n",
        "        class_num = labels.index(label)\n",
        "\n",
        "        for img in tqdm(os.listdir(path)):\n",
        "            try:\n",
        "                # Load and resize the image\n",
        "                img_arr = cv2.imread(os.path.join(path, img), cv2.IMREAD_GRAYSCALE)\n",
        "                resized_arr = cv2.resize(img_arr, (img_size, img_size))  # Resize the image\n",
        "\n",
        "                # Add the image and label as a pair\n",
        "                data.append([resized_arr, class_num])\n",
        "            except Exception as e:\n",
        "                print(f\"Error loading image {img}: {e}\")\n",
        "\n",
        "    # Convert the list to a NumPy array\n",
        "    data = np.array(data, dtype=object)  # Use dtype=object to allow image-label pairing\n",
        "    return data\n",
        "\n",
        "# get relativ Path of the data\n",
        "current_dir = os.getcwd()  # current directory\n",
        "norm_data_dir = os.path.join(current_dir, \"../..\", \"normData\") \n",
        "\n",
        "# lead the data\n",
        "test_data = get_training_data(os.path.join(norm_data_dir, \"test\"))\n",
        "train_data = get_training_data(os.path.join(norm_data_dir, \"train\"))\n",
        "val_data = get_training_data(os.path.join(norm_data_dir, \"val\"))"
      ]
    },
    {
      "cell_type": "code",
      "execution_count": 5,
      "metadata": {
        "colab": {
          "base_uri": "https://localhost:8080/"
        },
        "id": "Qrf_UaBJOHyK",
        "outputId": "4252c3db-2e24-435b-fc40-f89cdc568c90"
      },
      "outputs": [
        {
          "name": "stderr",
          "output_type": "stream",
          "text": [
            "100%|██████████| 7550/7550 [00:01<00:00, 5420.91it/s]\n",
            "100%|██████████| 216/216 [00:00<00:00, 3499.95it/s]\n",
            "100%|██████████| 624/624 [00:00<00:00, 2889.66it/s]"
          ]
        },
        {
          "name": "stdout",
          "output_type": "stream",
          "text": [
            "Shape of normalized and shuffled train images: (624, 224, 224)\n",
            "Shape of normalized and shuffled train images: (7550, 224, 224)\n",
            "Shape of normalized and shuffled validation images: (216, 224, 224)\n"
          ]
        },
        {
          "name": "stderr",
          "output_type": "stream",
          "text": [
            "\n"
          ]
        }
      ],
      "source": [
        "# Function to normalize the images\n",
        "def normalize_images(data):\n",
        "    images = []\n",
        "    labels = []\n",
        "\n",
        "    for img, label in tqdm(data):\n",
        "        # Normalization: each pixel is divided by 255\n",
        "        normalized_img = img / 255.0\n",
        "        images.append(normalized_img)\n",
        "        labels.append(label)\n",
        "\n",
        "    # Convert the images and labels into separate arrays\n",
        "    images = np.array(images)\n",
        "    labels = np.array(labels)\n",
        "\n",
        "    return images, labels\n",
        "\n",
        "# Normalize the images in the training dataset\n",
        "train_images, train_labels = normalize_images(train_data)\n",
        "val_images, val_labels = normalize_images(val_data)\n",
        "test_images, test_labels = normalize_images(test_data)\n",
        "\n",
        "\n",
        "# Check the shape and an example of the normalized and shuffled data\n",
        "print(f\"Shape of normalized and shuffled train images: {test_images.shape}\")\n",
        "print(f\"Shape of normalized and shuffled train images: {train_images.shape}\")\n",
        "print(f\"Shape of normalized and shuffled validation images: {val_images.shape}\")"
      ]
    },
    {
      "cell_type": "code",
      "execution_count": 6,
      "metadata": {
        "colab": {
          "base_uri": "https://localhost:8080/"
        },
        "id": "EhWclu08OZ6l",
        "outputId": "d5073850-3e5b-4686-fe54-830306e58ab2"
      },
      "outputs": [
        {
          "name": "stderr",
          "output_type": "stream",
          "text": [
            "/Users/mark/miniconda3/envs/bkimpr/lib/python3.11/site-packages/torchvision/models/_utils.py:208: UserWarning: The parameter 'pretrained' is deprecated since 0.13 and may be removed in the future, please use 'weights' instead.\n",
            "  warnings.warn(\n",
            "/Users/mark/miniconda3/envs/bkimpr/lib/python3.11/site-packages/torchvision/models/_utils.py:223: UserWarning: Arguments other than a weight enum or `None` for 'weights' are deprecated since 0.13 and may be removed in the future. The current behavior is equivalent to passing `weights=ResNet18_Weights.IMAGENET1K_V1`. You can also use `weights=ResNet18_Weights.DEFAULT` to get the most up-to-date weights.\n",
            "  warnings.warn(msg)\n"
          ]
        },
        {
          "name": "stdout",
          "output_type": "stream",
          "text": [
            "cpu\n"
          ]
        }
      ],
      "source": [
        "class ResNet(nn.Module):\n",
        "    def __init__(self, num_classes=2, softmax=True):\n",
        "      super(ResNet, self).__init__()\n",
        "      self.resnet = torchvision.models.resnet18(pretrained=True)\n",
        "      num_ftrs = self.resnet.fc.out_features\n",
        "      self.fc = nn.Linear(num_ftrs, num_classes)\n",
        "      self.bn = nn.BatchNorm1d(num_ftrs)\n",
        "      self.relu = nn.ReLU()\n",
        "      self.softmax = torch.nn.Softmax(dim=1) if softmax else None\n",
        "      self.change_conv1()\n",
        "\n",
        "    def forward(self, x):\n",
        "      x = self.resnet(x)\n",
        "      x = self.bn(x)\n",
        "      x = self.relu(x)\n",
        "      x = self.fc(x)\n",
        "      if self.softmax:\n",
        "        x = self.softmax(x)\n",
        "      return x\n",
        "\n",
        "    def change_conv1(self):\n",
        "      original_conv1 = self.resnet.conv1\n",
        "\n",
        "      #Create a new convolutional layer with 1 input channel instead of 3\n",
        "      new_conv1 = nn.Conv2d(\n",
        "        in_channels=1,  # Grayscale has 1 channel\n",
        "        out_channels=original_conv1.out_channels,\n",
        "        kernel_size=original_conv1.kernel_size,\n",
        "        stride=original_conv1.stride,\n",
        "        padding=original_conv1.padding,\n",
        "        bias=original_conv1.bias is not None\n",
        ")\n",
        "\n",
        "      # Initialize the new conv layer's weights by averaging the RGB weights\n",
        "      with torch.no_grad():\n",
        "        new_conv1.weight = nn.Parameter(original_conv1.weight.mean(dim=1, keepdim=True))\n",
        "\n",
        "        #Replace the original conv1 with the new one\n",
        "        self.resnet.conv1 = new_conv1\n",
        "\n",
        "\n",
        "model = ResNet(num_classes=2, softmax=True)\n",
        "device = torch.device('cuda:0' if torch.cuda.is_available() else 'cpu')\n",
        "model.to(device)\n",
        "print(device)\n",
        "\n",
        "\n"
      ]
    },
    {
      "cell_type": "code",
      "execution_count": 7,
      "metadata": {
        "colab": {
          "base_uri": "https://localhost:8080/"
        },
        "id": "pDehAi3WS1xR",
        "outputId": "aae09fa0-0ab0-4ec3-c85c-df303a05980d"
      },
      "outputs": [
        {
          "name": "stdout",
          "output_type": "stream",
          "text": [
            "torch.Size([216, 1, 224, 224]) torch.Size([7550, 1, 224, 224])\n",
            "Done!\n"
          ]
        }
      ],
      "source": [
        "from torch.utils.data import TensorDataset, DataLoader\n",
        "\n",
        "# Convert the images and labels to PyTorch tensors\n",
        "\n",
        "# Apply the transformation to training and validation images\n",
        "train_images_tensor = torch.stack([torch.tensor(img, dtype=torch.float) for img in train_images]).unsqueeze(1)\n",
        "val_images_tensor = torch.stack([torch.tensor(img, dtype=torch.float) for img in val_images]).unsqueeze(1)\n",
        "\n",
        "# Now permute them\n",
        "train_images_tensor = train_images_tensor.permute(0, 1, 2, 3)  # (N, 1, 244, 244)\n",
        "val_images_tensor = val_images_tensor.permute(0, 1, 2, 3)      # (N, 1, 244, 244)\n",
        "print(val_images_tensor.shape, train_images_tensor.shape)\n",
        "\n",
        "# The tensors are now in the shape (N, 1, 244, 244), where N is the number of images\n",
        "\n",
        "train_labels_tensor = torch.tensor(train_labels, dtype=torch.long)\n",
        "val_labels_tensor = torch.tensor(val_labels, dtype=torch.long)\n",
        "\n",
        "# Create the dataset and DataLoader\n",
        "train_dataset = TensorDataset(train_images_tensor, train_labels_tensor)\n",
        "val_dataset = TensorDataset(val_images_tensor, val_labels_tensor)\n",
        "\n",
        "# Define the batch size\n",
        "#train_loader = DataLoader(train_dataset, batch_size=16, shuffle=True)\n",
        "val_loader = DataLoader(val_dataset, batch_size=8, shuffle=True)\n",
        "print('Done!')\n",
        "\n"
      ]
    },
    {
      "cell_type": "markdown",
      "metadata": {
        "id": "_wCqaba_Xu59"
      },
      "source": [
        "### **Training**"
      ]
    },
    {
      "cell_type": "code",
      "execution_count": 8,
      "metadata": {
        "colab": {
          "base_uri": "https://localhost:8080/",
          "height": 734
        },
        "id": "oGlRJ8QtTziF",
        "outputId": "f22a306c-2bb0-4668-a84f-53b8a3ba7855"
      },
      "outputs": [
        {
          "name": "stderr",
          "output_type": "stream",
          "text": [
            "Epoch 1/5 - Loss: 0.3486983467966823: 100%|██████████| 236/236 [08:58<00:00,  2.28s/it] \n",
            "Epoch 1/5 - Validation Batch: 26: 100%|██████████| 27/27 [00:04<00:00,  6.47it/s]\n"
          ]
        },
        {
          "name": "stdout",
          "output_type": "stream",
          "text": [
            "Epoch 1/5 - Train Loss: 0.3487, Train F1: 0.9702, Train Acc: 0.9702, Val Loss: 0.4225, Val F1: 0.8875, Val Acc: 0.8889\n"
          ]
        },
        {
          "name": "stderr",
          "output_type": "stream",
          "text": [
            "Epoch 2/5 - Loss: 0.32516084283085195: 100%|██████████| 236/236 [08:47<00:00,  2.23s/it]\n",
            "Epoch 2/5 - Validation Batch: 26: 100%|██████████| 27/27 [00:04<00:00,  5.80it/s]\n"
          ]
        },
        {
          "name": "stdout",
          "output_type": "stream",
          "text": [
            "Epoch 2/5 - Train Loss: 0.3252, Train F1: 0.9890, Train Acc: 0.9890, Val Loss: 0.3317, Val F1: 0.9815, Val Acc: 0.9815\n"
          ]
        },
        {
          "name": "stderr",
          "output_type": "stream",
          "text": [
            "Epoch 3/5 - Loss: 0.3210855733792661: 100%|██████████| 236/236 [09:03<00:00,  2.30s/it] \n",
            "Epoch 3/5 - Validation Batch: 26: 100%|██████████| 27/27 [00:04<00:00,  6.19it/s]\n"
          ]
        },
        {
          "name": "stdout",
          "output_type": "stream",
          "text": [
            "Epoch 3/5 - Train Loss: 0.3211, Train F1: 0.9928, Train Acc: 0.9928, Val Loss: 0.3305, Val F1: 0.9815, Val Acc: 0.9815\n"
          ]
        },
        {
          "name": "stderr",
          "output_type": "stream",
          "text": [
            "Epoch 4/5 - Loss: 0.3197835364331633: 100%|██████████| 236/236 [09:16<00:00,  2.36s/it] \n",
            "Epoch 4/5 - Validation Batch: 26: 100%|██████████| 27/27 [00:04<00:00,  6.23it/s]\n"
          ]
        },
        {
          "name": "stdout",
          "output_type": "stream",
          "text": [
            "Epoch 4/5 - Train Loss: 0.3198, Train F1: 0.9943, Train Acc: 0.9943, Val Loss: 0.3312, Val F1: 0.9815, Val Acc: 0.9815\n"
          ]
        },
        {
          "name": "stderr",
          "output_type": "stream",
          "text": [
            "Epoch 5/5 - Loss: 0.31712015352006684: 100%|██████████| 236/236 [08:46<00:00,  2.23s/it]\n",
            "Epoch 5/5 - Validation Batch: 26: 100%|██████████| 27/27 [00:04<00:00,  5.60it/s]"
          ]
        },
        {
          "name": "stdout",
          "output_type": "stream",
          "text": [
            "Epoch 5/5 - Train Loss: 0.3171, Train F1: 0.9966, Train Acc: 0.9966, Val Loss: 0.3362, Val F1: 0.9815, Val Acc: 0.9815\n"
          ]
        },
        {
          "name": "stderr",
          "output_type": "stream",
          "text": [
            "\n"
          ]
        }
      ],
      "source": [
        "from sklearn.metrics import classification_report\n",
        "\n",
        "# Define params\n",
        "learning_rate = 0.0001\n",
        "batch_size = 32\n",
        "weight_decay = 1e-6\n",
        "\n",
        "criterion = nn.CrossEntropyLoss() \n",
        "train_loader = DataLoader(\n",
        "                train_dataset, batch_size=batch_size, shuffle=True\n",
        "            )\n",
        "\n",
        "optimizer = torch.optim.AdamW(\n",
        "    model.parameters(), lr=learning_rate, weight_decay=weight_decay\n",
        ")\n",
        "\n",
        "# Training function with logging\n",
        "def train_model(\n",
        "    model, train_loader, val_loader, criterion, optimizer, num_epochs=100, patience=10\n",
        "):\n",
        "    patience_counter = 0\n",
        "    best_validation_score = 0\n",
        "\n",
        "    # lists for logging\n",
        "    train_losses = []\n",
        "    val_losses = []\n",
        "    train_f1_scores = []\n",
        "    val_f1_scores = []\n",
        "    train_accuracies = []\n",
        "    val_accuracies = []\n",
        "\n",
        "    for epoch in range(num_epochs):\n",
        "        model.train()\n",
        "        p_bar = tqdm(train_loader)\n",
        "        running_loss = 0\n",
        "        all_train_preds = []\n",
        "        all_train_labels = []\n",
        "\n",
        "        for i, (images, labels) in enumerate(p_bar):\n",
        "            images, labels = images.to(device), labels.to(device)\n",
        "            optimizer.zero_grad()\n",
        "            outputs = model(images)\n",
        "            loss = criterion(outputs, labels)\n",
        "            loss.backward()\n",
        "            optimizer.step()\n",
        "            running_loss += loss.item()\n",
        "\n",
        "            # log the training metrics\n",
        "            _, preds = torch.max(outputs, 1)\n",
        "            all_train_preds.extend(preds.cpu().numpy())\n",
        "            all_train_labels.extend(labels.cpu().numpy())\n",
        "\n",
        "            p_bar.set_description(\n",
        "                f\"Epoch {epoch+1}/{num_epochs} - Loss: {running_loss / (i + 1)}\"\n",
        "            )\n",
        "\n",
        "        # log the training loss and metrics\n",
        "        train_losses.append(running_loss / len(train_loader))\n",
        "        train_class_report = classification_report(\n",
        "            all_train_labels,\n",
        "            all_train_preds,\n",
        "            target_names=[\"Pneumonia\", \"Normal\"],\n",
        "            output_dict=True,\n",
        "        )\n",
        "        train_f1_scores.append(train_class_report[\"weighted avg\"][\"f1-score\"])\n",
        "        train_accuracies.append(train_class_report[\"accuracy\"])\n",
        "\n",
        "        # validation\n",
        "        model.eval()\n",
        "        p_bar = tqdm(val_loader)\n",
        "        all_preds = []\n",
        "        all_labels = []\n",
        "        val_running_loss = 0\n",
        "\n",
        "        with torch.no_grad():\n",
        "            for i, (images, labels) in enumerate(p_bar):\n",
        "                images, labels = images.to(device), labels.to(device)\n",
        "                outputs = model(images)\n",
        "                loss = criterion(outputs, labels)\n",
        "                val_running_loss += loss.item()\n",
        "\n",
        "                _, preds = torch.max(outputs, 1)\n",
        "                all_preds.extend(preds.cpu().numpy())\n",
        "                all_labels.extend(labels.cpu().numpy())\n",
        "                p_bar.set_description(\n",
        "                    f\"Epoch {epoch+1}/{num_epochs} - Validation Batch: {i}\"\n",
        "                )\n",
        "\n",
        "        # log the validation metrics\n",
        "        val_losses.append(val_running_loss / len(val_loader))\n",
        "        class_report = classification_report(\n",
        "            all_labels,\n",
        "            all_preds,\n",
        "            target_names=[\"Pneumonia\", \"Normal\"],\n",
        "            output_dict=True,\n",
        "        )\n",
        "        val_f1_scores.append(class_report[\"weighted avg\"][\"f1-score\"])\n",
        "        val_accuracies.append(class_report[\"accuracy\"])\n",
        "\n",
        "        print(\n",
        "            f\"Epoch {epoch+1}/{num_epochs} - \"\n",
        "            f\"Train Loss: {train_losses[-1]:.4f}, Train F1: {train_f1_scores[-1]:.4f}, Train Acc: {train_accuracies[-1]:.4f}, \"\n",
        "            f\"Val Loss: {val_losses[-1]:.4f}, Val F1: {val_f1_scores[-1]:.4f}, Val Acc: {val_accuracies[-1]:.4f}\"\n",
        "        )\n",
        "\n",
        "        # Early Stopping\n",
        "        if val_f1_scores[-1] > best_validation_score:\n",
        "            best_validation_score = val_f1_scores[-1]\n",
        "            patience_counter = 0\n",
        "            # torch.save(model.state_dict(), os.path.join('/content/drive/MyDrive/model_results', 'best_model_resnet.pth'))\n",
        "        else:\n",
        "            patience_counter += 1\n",
        "\n",
        "        if patience_counter >= patience:\n",
        "            print(f\"Early stopping triggered after {epoch+1} epochs.\")\n",
        "            break\n",
        "\n",
        "    return (\n",
        "        train_losses,\n",
        "        val_losses,\n",
        "        train_f1_scores,\n",
        "        val_f1_scores,\n",
        "        train_accuracies,\n",
        "        val_accuracies,\n",
        "    )\n",
        "\n",
        "\n",
        "# \n",
        "(\n",
        "    train_losses,\n",
        "    val_losses,\n",
        "    train_f1_scores,\n",
        "    val_f1_scores,\n",
        "    train_accuracies,\n",
        "    val_accuracies,\n",
        ") = train_model(\n",
        "    model,\n",
        "    train_loader,\n",
        "    val_loader,\n",
        "    criterion,\n",
        "    optimizer,\n",
        "    num_epochs=5,\n",
        "    patience=10,\n",
        ")"
      ]
    },
    {
      "cell_type": "code",
      "execution_count": 9,
      "metadata": {},
      "outputs": [
        {
          "data": {
            "image/png": "[encoded data removed]",
            "text/plain": [
              "<Figure size 1200x600 with 2 Axes>"
            ]
          },
          "metadata": {},
          "output_type": "display_data"
        }
      ],
      "source": [
        "import matplotlib.pyplot as plt\n",
        "\n",
        "# Plotting\n",
        "epochs = range(1, len(train_losses) + 1)\n",
        "\n",
        "plt.figure(figsize=(12, 6))\n",
        "\n",
        "# Plot loss\n",
        "plt.subplot(1, 2, 1)\n",
        "plt.plot(epochs, train_losses, label=\"Train Loss\")\n",
        "plt.plot(epochs, val_losses, label=\"Validation Loss\")\n",
        "plt.xlabel(\"Epochs\")\n",
        "plt.ylabel(\"Loss\")\n",
        "plt.title(\"Training and Validation Loss\")\n",
        "plt.legend()\n",
        "\n",
        "# Plot f1-Score\n",
        "plt.subplot(1, 2, 2)\n",
        "plt.plot(epochs, train_f1_scores, label=\"Train F1 Score\")\n",
        "plt.plot(epochs, val_f1_scores, label=\"Validation F1 Score\")\n",
        "plt.xlabel(\"Epochs\")\n",
        "plt.ylabel(\"F1 Score\")\n",
        "plt.title(\"Training and Validation F1 Score\")\n",
        "plt.legend()\n",
        "\n",
        "# Plot accuracy\n",
        "plt.subplot(2, 2, 3)\n",
        "plt.plot(epochs, train_accuracies, label=\"Train Accuracy\")\n",
        "plt.plot(epochs, val_accuracies, label=\"Validation Accuracy\")\n",
        "plt.xlabel(\"Epochs\")\n",
        "plt.ylabel(\"Accuracy\")\n",
        "plt.title(\"Training and Validation Accuracy\")\n",
        "plt.legend()\n",
        "\n",
        "plt.tight_layout()\n",
        "plt.show()"
      ]
    },
    {
      "cell_type": "markdown",
      "metadata": {
        "id": "FZ-Sw9n_Xoxx"
      },
      "source": [
        "### **Testing**"
      ]
    },
    {
      "cell_type": "code",
      "execution_count": null,
      "metadata": {
        "colab": {
          "base_uri": "https://localhost:8080/"
        },
        "id": "aW6M8ESPYt7f",
        "outputId": "40b038d1-7ec6-4103-cfc7-c9c50afbcef5"
      },
      "outputs": [],
      "source": [
        "state_dict = torch.load('/content/drive/MyDrive/model_results/best_model_resnet.pth')\n",
        "model.load_state_dict(state_dict)"
      ]
    },
    {
      "cell_type": "code",
      "execution_count": null,
      "metadata": {
        "colab": {
          "base_uri": "https://localhost:8080/"
        },
        "id": "UAvunQT-Xtwx",
        "outputId": "81c71b55-645c-4d78-eb34-ed697dad9e35"
      },
      "outputs": [],
      "source": [
        "test_images_tensor = torch.stack([torch.tensor(img, dtype=torch.float) for img in test_images]).unsqueeze(1)  # Applying the same transformation as for train/val\n",
        "test_images_tensor = test_images_tensor.permute(0, 1, 2, 3)\n",
        "print(test_images_tensor.shape)\n",
        "\n",
        "test_labels_tensor = torch.tensor(test_labels, dtype=torch.long)  # or torch.float if binary classification\n",
        "\n",
        "# Create the dataset and DataLoader for the test set\n",
        "test_dataset = TensorDataset(test_images_tensor, test_labels_tensor)\n",
        "test_loader = DataLoader(test_dataset, batch_size=8, shuffle=True)\n",
        "\n",
        "all_predictions = []\n",
        "all_labels = []\n",
        "for images, labels in test_loader:\n",
        "  images, labels = images.to(device), labels\n",
        "  outputs = model(images)\n",
        "  _, preds = torch.max(outputs, 1)\n",
        "  all_predictions.extend(preds.cpu().numpy())\n",
        "  all_labels.extend(labels.numpy())\n",
        "\n",
        "class_report = classification_report(all_labels, all_predictions, target_names=['NORMAL', 'PNEUMONIA'])\n",
        "print(class_report)\n",
        "\n"
      ]
    }
  ],
  "metadata": {
    "accelerator": "GPU",
    "colab": {
      "gpuType": "T4",
      "provenance": []
    },
    "kernelspec": {
      "display_name": "bkimpr",
      "language": "python",
      "name": "python3"
    },
    "language_info": {
      "codemirror_mode": {
        "name": "ipython",
        "version": 3
      },
      "file_extension": ".py",
      "mimetype": "text/x-python",
      "name": "python",
      "nbconvert_exporter": "python",
      "pygments_lexer": "ipython3",
      "version": "3.11.11"
    }
  },
  "nbformat": 4,
  "nbformat_minor": 0
}
